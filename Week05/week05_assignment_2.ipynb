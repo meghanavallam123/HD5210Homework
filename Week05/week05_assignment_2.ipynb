{
  "cells": [
    {
      "cell_type": "markdown",
      "metadata": {
        "nbgrader": {
          "grade": false,
          "grade_id": "intro",
          "locked": true,
          "schema_version": 1,
          "solution": false
        },
        "id": "_KqeyVTQvLgr"
      },
      "source": [
        "# Week 5 Exercises\n",
        "\n",
        "_McKinney 3.2_\n",
        "\n",
        "**Unlike in previous weeks, in the exercises below, you will need to create a function definition from scratch.  I'll provide specific instructions and examples for how it will be used, but you will have to do the work of definiging the whole function.**\n",
        "\n",
        "---\n",
        "---"
      ]
    },
    {
      "cell_type": "markdown",
      "metadata": {
        "nbgrader": {
          "grade": false,
          "grade_id": "longest",
          "locked": true,
          "schema_version": 1,
          "solution": false
        },
        "id": "f8lCPdUXvLgs"
      },
      "source": [
        "### 25.1 Longest String\n",
        "\n",
        "Write a function called `longest (L)` that takes as its only parameter a list of strings.  Your function needs to find the longest of those strings and return the position number of that longest string.  An example is provided below:\n",
        "\n",
        "The longest word in that list of strings is \"birthday\" in position #1, so `longest(strings)` should return 1.\n",
        "```\n",
        ">>> strings = ['happy', 'birthday', 'to', 'me']\n",
        ">>> longest(strings)\n",
        "1\n",
        "```\n",
        "\n",
        "Be sure to include a docstring.  Include test cases in your docstring if you want to."
      ]
    },
    {
      "cell_type": "code",
      "execution_count": 24,
      "metadata": {
        "nbgrader": {
          "grade": false,
          "grade_id": "longest-answer",
          "locked": false,
          "schema_version": 1,
          "solution": true
        },
        "id": "JkNRVncGvLgt"
      },
      "outputs": [],
      "source": [
        "def longest(strings_list):\n",
        "    \"\"\"\n",
        "    (list) -> int\n",
        "    strings_list is a list of strings. This function returns the index of the longest string in the list.\n",
        "\n",
        "    Examples:\n",
        "    >>> longest(['happy', 'birthday', 'to', 'me'])\n",
        "    1\n",
        "    >>> longest(['enjoy', 'class'])\n",
        "    0\n",
        "    >>> longest(['when', 'what', 'where', 'how', 'who'])\n",
        "    2\n",
        "    \"\"\"\n",
        "    # Create a list of the lengths of each string in strings_list\n",
        "    lengths = [len(string) for string in strings_list]\n",
        "\n",
        "    # Find the index of the longest string by locating the index of the max length\n",
        "    longest_index = lengths.index(max(lengths))\n",
        "\n",
        "    # Return the index of the longest string\n",
        "    return longest_index\n"
      ]
    },
    {
      "cell_type": "code",
      "execution_count": 25,
      "metadata": {
        "nbgrader": {
          "grade": true,
          "grade_id": "longest-tests",
          "locked": true,
          "points": 10,
          "schema_version": 1,
          "solution": false
        },
        "id": "k9sIU4WjvLgt"
      },
      "outputs": [],
      "source": [
        "assert longest(\"happy birthday to me\".split(\" \")) == 1\n",
        "assert longest(\"enjoy class\".split(\" \")) == 0\n",
        "assert longest(['when','what','where','how','who']) == 2"
      ]
    },
    {
      "cell_type": "code",
      "execution_count": 26,
      "metadata": {
        "id": "UVedHU_MvLgu",
        "outputId": "bd10afc7-05a0-4018-9611-760d873665b6",
        "colab": {
          "base_uri": "https://localhost:8080/"
        }
      },
      "outputs": [
        {
          "output_type": "stream",
          "name": "stdout",
          "text": [
            "Finding tests in NoName\n",
            "Trying:\n",
            "    longest(['happy', 'birthday', 'to', 'me'])\n",
            "Expecting:\n",
            "    1\n",
            "ok\n",
            "Trying:\n",
            "    longest(['enjoy', 'class'])\n",
            "Expecting:\n",
            "    0\n",
            "ok\n",
            "Trying:\n",
            "    longest(['when', 'what', 'where', 'how', 'who'])\n",
            "Expecting:\n",
            "    2\n",
            "ok\n"
          ]
        }
      ],
      "source": [
        "import doctest\n",
        "doctest.run_docstring_examples(longest, globals(), verbose=True)"
      ]
    },
    {
      "cell_type": "markdown",
      "metadata": {
        "id": "POeaoNREvLgu"
      },
      "source": [
        "### 25.2 Farenheit to Celsius\n",
        "\n",
        "Write a function called f_to_c() that converts a given temperature in degrees Farenheit to degrees Celsius.  If you don't recall that conversion, it is:\n",
        "\n",
        "$ temp_c = \\frac{5}{9} \\times (temp_f - 32) $\n",
        "\n",
        "Make sure that you code is well documented using the DocString examples, and that your code includes tests for 212f, 32f, and 98.6f."
      ]
    },
    {
      "cell_type": "code",
      "execution_count": 27,
      "metadata": {
        "id": "7Nd2KGDXvLgu"
      },
      "outputs": [],
      "source": [
        "def f_to_c(temp_in_f):\n",
        "    \"\"\"\n",
        "    (float) -> float\n",
        "\n",
        "    temp_in_f is the temperature in degrees Fahrenheit.\n",
        "\n",
        "    This function converts the given Fahrenheit temperature to Celsius and returns the result.\n",
        "\n",
        "    Examples:\n",
        "    >>> f_to_c(212)\n",
        "    100.0\n",
        "    >>> f_to_c(32)\n",
        "    0.0\n",
        "    >>> f_to_c(98.6)\n",
        "    37.0\n",
        "    \"\"\"\n",
        "    # Convert Fahrenheit to Celsius using the formula: (tempf - 32) * 5/9\n",
        "    temp_in_c = (temp_in_f - 32) * 5/9\n",
        "\n",
        "    # Return the calculated Celsius temperature\n",
        "    return temp_in_c\n"
      ]
    },
    {
      "cell_type": "code",
      "execution_count": 28,
      "metadata": {
        "id": "wel3qj5mvLgu"
      },
      "outputs": [],
      "source": [
        "assert f_to_c(212) == 100.0\n",
        "assert f_to_c(32) == 0.0\n",
        "assert f_to_c(98.6) == 37.0"
      ]
    },
    {
      "cell_type": "code",
      "execution_count": 29,
      "metadata": {
        "id": "-t4am4SJvLgu",
        "outputId": "2eca2b6a-c210-41d1-ecf1-1f2d108c7510",
        "colab": {
          "base_uri": "https://localhost:8080/"
        }
      },
      "outputs": [
        {
          "output_type": "stream",
          "name": "stdout",
          "text": [
            "Finding tests in NoName\n",
            "Trying:\n",
            "    f_to_c(212)\n",
            "Expecting:\n",
            "    100.0\n",
            "ok\n",
            "Trying:\n",
            "    f_to_c(32)\n",
            "Expecting:\n",
            "    0.0\n",
            "ok\n",
            "Trying:\n",
            "    f_to_c(98.6)\n",
            "Expecting:\n",
            "    37.0\n",
            "ok\n"
          ]
        }
      ],
      "source": [
        "import doctest\n",
        "doctest.run_docstring_examples(f_to_c, globals(), verbose=True)"
      ]
    },
    {
      "cell_type": "markdown",
      "metadata": {
        "id": "kZBWCCH1vLgu"
      },
      "source": [
        "### 25.3 Computing Length of Stay\n",
        "\n",
        "For this problem, we have a collection of patient enounter data stored as a Python dictionary.  The `key` for the dictionary is the **encounter ID**, a code that starts with the letter `E` followed by four numbers.  The value associated with each encounter ID is another Python dictionary.  This \"inner\" dictionary holds three items: admit date, primary diagnosis, and discharge date.  See the example in the code below.\n",
        "\n",
        "You need to write a length of stay function that computes the length of stay, in whole days, between the admit date and discharge date.  However, if the diagnosis is \"Observation\" then the length of stay should always be returned as 0 regardless of the admit and discharge dates. Your function should should take three parameters: a start date, an end date, and a diagnosis.\n",
        "\n",
        "You will find it handy to refer to this example here on how to calculate the number of days between two dates: https://stackoverflow.com/questions/151199/how-to-calculate-number-of-days-between-two-given-dates"
      ]
    },
    {
      "cell_type": "code",
      "execution_count": 30,
      "metadata": {
        "id": "btfSpOVEvLgv"
      },
      "outputs": [],
      "source": [
        "from datetime import date\n",
        "\n",
        "def los(starting_date, ending_date, diagnosis):\n",
        "    \"\"\"\n",
        "    (date, date, str) -> int\n",
        "    * starting_date: admission date (date object)\n",
        "    * ending_date: discharge date (date object)\n",
        "    * diagnosis: primary diagnosis for the patient (string)\n",
        "\n",
        "    This function calculates the length of stay (LOS) in full days based on the admission and discharge dates.\n",
        "    If the diagnosis is 'Observation', the function returns 0, meaning the stay is not counted.\n",
        "\n",
        "    Examples:\n",
        "    >>> los(date(2019,1,3), date(2019,1,8), \"COPD\")\n",
        "    5\n",
        "    >>> los(date(2020,1,5), date(2020,1,8), \"Observation\")\n",
        "    0\n",
        "    \"\"\"\n",
        "    # Check if the diagnosis is 'Observation'. If so, return 0, indicating no stay.\n",
        "    if diagnosis == 'Observation':\n",
        "        return 0\n",
        "\n",
        "    # Calculate and return the length of stay as the difference between end_date and start_date in days\n",
        "    return (ending_date - starting_date).days\n"
      ]
    },
    {
      "cell_type": "code",
      "execution_count": 31,
      "metadata": {
        "id": "bQ52dTqvvLgv"
      },
      "outputs": [],
      "source": [
        "assert los(date(2019,1,3), date(2019,1,8), \"COPD\") == 5\n",
        "assert los(date(2020,1,5), date(2020,1,8), \"Observation\") == 0"
      ]
    },
    {
      "cell_type": "code",
      "execution_count": 32,
      "metadata": {
        "id": "Qmk2f2rrvLgv",
        "outputId": "5823bd26-1e6b-4daf-c7a7-60b8d90ae405",
        "colab": {
          "base_uri": "https://localhost:8080/"
        }
      },
      "outputs": [
        {
          "output_type": "stream",
          "name": "stdout",
          "text": [
            "Finding tests in NoName\n",
            "Trying:\n",
            "    los(date(2019,1,3), date(2019,1,8), \"COPD\")\n",
            "Expecting:\n",
            "    5\n",
            "ok\n",
            "Trying:\n",
            "    los(date(2020,1,5), date(2020,1,8), \"Observation\")\n",
            "Expecting:\n",
            "    0\n",
            "ok\n"
          ]
        }
      ],
      "source": [
        "import doctest\n",
        "doctest.run_docstring_examples(los, globals(), verbose=True)"
      ]
    },
    {
      "cell_type": "code",
      "execution_count": 33,
      "metadata": {
        "id": "cpqb2LX9vLgv",
        "outputId": "e97b46f8-a45e-4579-ca84-3400190bc95d",
        "colab": {
          "base_uri": "https://localhost:8080/"
        }
      },
      "outputs": [
        {
          "output_type": "stream",
          "name": "stdout",
          "text": [
            "5\n",
            "4\n",
            "1\n",
            "0\n",
            "0\n"
          ]
        }
      ],
      "source": [
        "encounters = {\n",
        "    \"E1234\": { \"admit\": date(2019,1,3), \"diagnosis\": \"COPD\", \"discharge\": date(2019,1,8) },\n",
        "    \"E8342\": { \"admit\": date(2019,1,5), \"diagnosis\": \"Hypertension\", \"discharge\": date(2019,1,9) },\n",
        "    \"E9231\": { \"admit\": date(2019,1,12), \"diagnosis\": \"Anxiety\", \"discharge\": date(2019,1,13) },\n",
        "    \"E8333\": { \"admit\": date(2019,1,15), \"diagnosis\": \"Observation\", \"discharge\": date(2019,1,16) },\n",
        "    \"E3342\": { \"admit\": date(2019,1,4), \"diagnosis\": \"Anxiety\", \"discharge\": date(2019,1,4)}\n",
        "}\n",
        "\n",
        "\n",
        "for encid, visit in encounters.items():\n",
        "    print(los(visit['admit'],visit['discharge'],visit['diagnosis']))\n",
        "\n",
        "# Your output should be\n",
        "# 5\n",
        "# 4\n",
        "# 1\n",
        "# 0\n",
        "# 0"
      ]
    },
    {
      "cell_type": "markdown",
      "metadata": {
        "id": "foO0Yhe3vLgv"
      },
      "source": [
        "---\n",
        "---\n",
        "\n",
        "### 25.4 Average Length of Stay\n",
        "\n",
        "Create a function called `average_los` that returns the average of the LOS for the encounters in the provided dictionary. The encounters must be a dictionary that contains dictionaries that each contain at least an admit date and a discharge date.\n",
        "    \n",
        "If the length of stay of any individual encounter is 0, then it will not be counted toward the average."
      ]
    },
    {
      "cell_type": "code",
      "execution_count": 34,
      "metadata": {
        "id": "k9Wy668ovLgv"
      },
      "outputs": [],
      "source": [
        "from datetime import date\n",
        "\n",
        "def calculate_los(admitting_date, discharging_date):\n",
        "    \"\"\"\n",
        "    (date, date) -> int\n",
        "    Admitting_date: the admission date (date object)\n",
        "    Discharging_date: the discharge date (date object)\n",
        "\n",
        "    This function calculates the length of stay (LOS) in whole days based on the provided admitting and discharging dates.\n",
        "\n",
        "    Examples:\n",
        "    >>> calculate_los(date(2019,1,3), date(2019,1,8))\n",
        "    5\n",
        "    >>> calculate_los(date(2020,1,5), date(2020,1,8))\n",
        "    3\n",
        "    \"\"\"\n",
        "    # Calculate and return the difference in days between discharging_date and admitting_date\n",
        "    return (discharging_date - admitting_date).days\n",
        "\n",
        "def average_los(encounters):\n",
        "    \"\"\"\n",
        "    (dict) -> float\n",
        "    * encounters: a dictionary where each key is an encounter ID and each value is another dictionary\n",
        "      with keys 'admit', 'discharge', and 'diagnosis'.\n",
        "\n",
        "    This function calculates the average length of stay (LOS) for the provided encounters.\n",
        "    Encounters with a length of stay of 0 or a diagnosis of 'Observation' are excluded from the average.\n",
        "\n",
        "    Examples:\n",
        "    >>> encounters = {\n",
        "    ...     \"E1234\": { \"admit\": date(2019,1,3), \"diagnosis\": \"COPD\", \"discharge\": date(2019,1,8) },\n",
        "    ...     \"E8342\": { \"admit\": date(2019,1,5), \"diagnosis\": \"Hypertension\", \"discharge\": date(2019,1,9) },\n",
        "    ...     \"E8333\": { \"admit\": date(2019,1,15), \"diagnosis\": \"Observation\", \"discharge\": date(2019,1,16) }\n",
        "    ... }\n",
        "    >>> round(average_los(encounters), 2)\n",
        "    4.5\n",
        "    \"\"\"\n",
        "    # Initialize total_los to accumulate total length of stay and count to track valid encounters\n",
        "    total_los = 0\n",
        "    count = 0\n",
        "\n",
        "    # Loop through each encounter in the encounters dictionary\n",
        "    for encounter_id, data in encounters.items():\n",
        "        # Extract admitting date, discharging date, and diagnosis for each encounter\n",
        "        admitting_date = data.get('admit')\n",
        "        discharging_date = data.get('discharge')\n",
        "        diagnosis = data.get('diagnosis')\n",
        "\n",
        "        # Ensure both dates are present and the diagnosis is not 'Observation'\n",
        "        if admitting_date and discharging_date and diagnosis != 'Observation':\n",
        "            # Calculate the length of stay using the calculate_los function\n",
        "            los = calculate_los(admitting_date, discharging_date)\n",
        "\n",
        "            # Only include encounters with a positive length of stay\n",
        "            if los > 0:\n",
        "                total_los += los  # Add the length of stay to the total\n",
        "                count += 1  # Increment the valid encounter count\n",
        "\n",
        "    # If no valid encounters, return 0.0 to avoid division by zero\n",
        "    if count == 0:\n",
        "        return 0.0\n",
        "\n",
        "    # Return the average length of stay\n",
        "    return total_los / count\n"
      ]
    },
    {
      "cell_type": "code",
      "execution_count": 35,
      "metadata": {
        "id": "28BySumevLgv"
      },
      "outputs": [],
      "source": [
        "from datetime import date\n",
        "encounters = {\n",
        "    \"E1234\": { \"admit\": date(2019,1,3), \"diagnosis\": \"COPD\", \"discharge\": date(2019,1,8) },\n",
        "    \"E8342\": { \"admit\": date(2019,1,5), \"diagnosis\": \"Hypertension\", \"discharge\": date(2019,1,9) },\n",
        "    \"E9231\": { \"admit\": date(2019,1,12), \"diagnosis\": \"Anxiety\", \"discharge\": date(2019,1,13) },\n",
        "    \"E8333\": { \"admit\": date(2019,1,15), \"diagnosis\": \"Observation\", \"discharge\": date(2019,1,16) },\n",
        "    \"E3342\": { \"admit\": date(2019,1,4), \"diagnosis\": \"Anxiety\", \"discharge\": date(2019,1,4)}\n",
        "}\n",
        "\n",
        "assert(round(average_los(encounters),2) == 3.33)"
      ]
    },
    {
      "cell_type": "code",
      "execution_count": 36,
      "metadata": {
        "id": "sBNmAmEtvLgv",
        "outputId": "42ba1463-4465-42b6-d9cd-180a56a68d3b",
        "colab": {
          "base_uri": "https://localhost:8080/"
        }
      },
      "outputs": [
        {
          "output_type": "stream",
          "name": "stdout",
          "text": [
            "Finding tests in NoName\n",
            "Trying:\n",
            "    encounters = {\n",
            "        \"E1234\": { \"admit\": date(2019,1,3), \"diagnosis\": \"COPD\", \"discharge\": date(2019,1,8) },\n",
            "        \"E8342\": { \"admit\": date(2019,1,5), \"diagnosis\": \"Hypertension\", \"discharge\": date(2019,1,9) },\n",
            "        \"E8333\": { \"admit\": date(2019,1,15), \"diagnosis\": \"Observation\", \"discharge\": date(2019,1,16) }\n",
            "    }\n",
            "Expecting nothing\n",
            "ok\n",
            "Trying:\n",
            "    round(average_los(encounters), 2)\n",
            "Expecting:\n",
            "    4.5\n",
            "ok\n"
          ]
        }
      ],
      "source": [
        "import doctest\n",
        "doctest.run_docstring_examples(average_los, globals(), verbose=True)"
      ]
    },
    {
      "cell_type": "markdown",
      "metadata": {
        "id": "zNo488IYvLgv"
      },
      "source": [
        "---\n",
        "\n",
        "### 25.5 Celsius to Farenheit\n",
        "\n",
        "Write your own function called `c_to_f` that converts degrees Celsius to degrees Farenheit.  Include in your solution a series of doc tests that can verify the conversion using inputs of 100, 0, and 37 degrees Celsius"
      ]
    },
    {
      "cell_type": "code",
      "execution_count": 37,
      "metadata": {
        "id": "xdVovWNbvLgv"
      },
      "outputs": [],
      "source": [
        "def c_to_f(degrees_celsius):\n",
        "    \"\"\"\n",
        "    (float) -> float\n",
        "    * degrees_celsius: temperature in degrees Celsius (float)\n",
        "\n",
        "    This function converts the given Celsius temperature to Fahrenheit and returns the result.\n",
        "\n",
        "    Examples:\n",
        "    >>> assert round(c_to_f(100), 1) == 212.0\n",
        "    >>> assert round(c_to_f(0), 1) == 32.0\n",
        "    >>> assert round(c_to_f(37), 1) == 98.6\n",
        "    \"\"\"\n",
        "    # Convert Celsius to Fahrenheit using the formula: F = (C * 9/5) + 32\n",
        "    degrees_fahrenheit = (degrees_celsius * 9/5) + 32\n",
        "\n",
        "    # Return the calculated temperature in Fahrenheit\n",
        "    return degrees_fahrenheit\n"
      ]
    },
    {
      "cell_type": "code",
      "execution_count": 38,
      "metadata": {
        "id": "_bkdv6mtvLgv",
        "outputId": "0d2c85fc-6436-4195-999d-e81cf82069d6",
        "colab": {
          "base_uri": "https://localhost:8080/"
        }
      },
      "outputs": [
        {
          "output_type": "stream",
          "name": "stdout",
          "text": [
            "Finding tests in NoName\n",
            "Trying:\n",
            "    assert round(c_to_f(100), 1) == 212.0\n",
            "Expecting nothing\n",
            "ok\n",
            "Trying:\n",
            "    assert round(c_to_f(0), 1) == 32.0\n",
            "Expecting nothing\n",
            "ok\n",
            "Trying:\n",
            "    assert round(c_to_f(37), 1) == 98.6\n",
            "Expecting nothing\n",
            "ok\n"
          ]
        }
      ],
      "source": [
        "import doctest\n",
        "doctest.run_docstring_examples(c_to_f, globals(), verbose=True)"
      ]
    },
    {
      "cell_type": "code",
      "execution_count": 38,
      "metadata": {
        "id": "CsK5TDubvLgv"
      },
      "outputs": [],
      "source": []
    },
    {
      "cell_type": "markdown",
      "metadata": {
        "id": "emkmgV5wvLgv"
      },
      "source": [
        "---\n",
        "\n",
        "## Check your work above\n",
        "\n",
        "If you didn't get them all correct, take a few minutes to think through those that aren't correct.\n",
        "\n",
        "\n",
        "## Submitting Your Work\n",
        "\n",
        "In order to submit your work, you'll need to use the `git` command line program to **add** your homework file (this file) to your local repository, **commit** your changes to your local repository, and then **push** those changes up to github.com.  From there, I'll be able to **pull** the changes down and do my grading.  I'll provide some feedback, **commit** and **push** my comments back to you.  Next week, I'll show you how to **pull** down my comments.\n",
        "\n",
        "First run through everything one last time and submit your work:\n",
        "1. Use the `Kernel` -> `Restart Kernel and Run All Cells` menu option to run everything from top to bottom and stop here.\n",
        "2. Then open a new command line by clicking the `+` icon above the file list and chosing `Terminal`\n",
        "3. At the command line in the new Terminal, follow these steps:\n",
        "  1. Change directories to your project folder and the week03 subfolder (`cd <folder name>`)\n",
        "  2. Make sure your project folders are up to date with github.com (`git pull`)\n",
        "  3. Add the homework files for this week (`git add <file name>`)\n",
        "  4. Commit your changes (`git commit -a -m \"message\"`)\n",
        "  5. Push your changes (`git push`)\n",
        "  \n",
        "If anything fails along the way with this submission part of the process, let me know.  I'll help you troubleshoort."
      ]
    }
  ],
  "metadata": {
    "celltoolbar": "Create Assignment",
    "kernelspec": {
      "display_name": "Python 3",
      "language": "python",
      "name": "python3"
    },
    "language_info": {
      "codemirror_mode": {
        "name": "ipython",
        "version": 3
      },
      "file_extension": ".py",
      "mimetype": "text/x-python",
      "name": "python",
      "nbconvert_exporter": "python",
      "pygments_lexer": "ipython3",
      "version": "3.6.7"
    },
    "colab": {
      "provenance": []
    }
  },
  "nbformat": 4,
  "nbformat_minor": 0
}
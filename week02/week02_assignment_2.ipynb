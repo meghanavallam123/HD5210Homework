{
  "cells": [
    {
      "cell_type": "markdown",
      "metadata": {
        "id": "view-in-github",
        "colab_type": "text"
      },
      "source": [
        "<a href=\"https://colab.research.google.com/github/meghanavallam123/HD5210Homework/blob/main/week02/week02_assignment_2.ipynb\" target=\"_parent\"><img src=\"https://colab.research.google.com/assets/colab-badge.svg\" alt=\"Open In Colab\"/></a>"
      ]
    },
    {
      "cell_type": "markdown",
      "metadata": {
        "nbgrader": {
          "grade": false,
          "grade_id": "intro",
          "locked": true,
          "schema_version": 1,
          "solution": false
        },
        "id": "oubVKGO02Jnb"
      },
      "source": [
        "# Week 2 Programming Exercises\n",
        "\n",
        "See: _McKinney 2.3_ and [Python Documentation](https://docs.python.org/3/tutorial/introduction.html) section 3.1.1 on using Python as a calculator.\n",
        "\n",
        "**At the begining of the semester, all of the workshop programming exercises will be structured a specific way to make it easier to verify for yourself that you're on the right track as well as easier for me to do a first pass on automated grading.  The structure of each question will require you to write a function using Python code. Don't worry that we haven't talked about functions yet. Just edit the code between** `### BEGIN SOLUTION` and `### END SOLUTION` **as shown in the example below.**\n"
      ]
    },
    {
      "cell_type": "markdown",
      "metadata": {
        "id": "FYGKSn4E2Jnd"
      },
      "source": [
        "**WHAT I PROVIDE:**\n",
        "```\n",
        "def some_function(parameter1, parameter2):\n",
        "\n",
        "   ### BEGIN SOLUTION\n",
        "   x = -1\n",
        "   ### END SOLUTION\n",
        "   \n",
        "   return x\n",
        "```\n",
        "\n",
        "**WHAT YOU SHOULD DO:** Just change the parameter names (if you feel you need to) and the calculations between `### BEGIN SOLUTION` and `### END SOLUTION`.  This is just a made up example.\n",
        "```\n",
        "def some_function(a, b):\n",
        "\n",
        "   ### BEGIN SOLUTION\n",
        "   temp = a + b\n",
        "   x = temp / a * b\n",
        "   ### END SOLUTION\n",
        "   \n",
        "   return x\n",
        "```\n"
      ]
    },
    {
      "cell_type": "markdown",
      "metadata": {
        "id": "a057tGLF2Jne"
      },
      "source": [
        "---\n",
        "---\n",
        "\n",
        "**Below each programming exercise are some tests (`assertions`) that verify your code is working correctly.  If any assertions fail, you know that something isnt' right with your code, but having all assertions pass doesn't necessarily mean your code is perfect, yet. You should also create your own tests to make sure your code is correct.**\n",
        "\n",
        "**For now, please don't change any function names**"
      ]
    },
    {
      "cell_type": "markdown",
      "metadata": {
        "nbgrader": {
          "grade": false,
          "grade_id": "bmi",
          "locked": true,
          "schema_version": 1,
          "solution": false
        },
        "id": "1yRcjFsc2Jnf"
      },
      "source": [
        "### 5.1 BMI Calculation\n",
        "\n",
        "Create new names for the variables that you need in the code framework below and use the variables to compute the corresponding body mass index (BMI). You can use any meaningful variable names you like. When you compute the BMI, assign a variable to it, and then print the result to the notebook's output.\n",
        "\n",
        "* Weght in kilograms is 90.7\n",
        "* Height in meters in 1.82\n",
        "\n",
        "Note that a simple BMI calculation is weight in kilograms divided by the square of height in meters.\n",
        "\n",
        "$ bmi = \\frac{weight\\,\\mathrm{kg}}{(height\\,\\mathrm{m})^2} $\n",
        "\n",
        "For this problem, you'll be graded both on proper calculation as well as on programming style and appropriate variables names.\n",
        "\n",
        "_Also note that BMI should not be considered a universal measure of health or fitness. A health BMI can vary greatly depending on many other fitness conditions and body types._"
      ]
    },
    {
      "cell_type": "code",
      "execution_count": 2,
      "metadata": {
        "nbgrader": {
          "grade": false,
          "grade_id": "bmi-answer",
          "locked": false,
          "schema_version": 1,
          "solution": true
        },
        "id": "wDO9two52Jnf"
      },
      "outputs": [],
      "source": [
        "def calculate_bmi(weight_kg, height_m):\n",
        "\n",
        "    # 1. Change the names of parameter1 and parameter2 to be something more meaningful\n",
        "    # 2. Change the name of the return variable below\n",
        "\n",
        "    ### BEGIN SOLUTION\n",
        "    bmi_value = weight_kg / (height_m ** 2)\n",
        "    ### END SOLUTION\n",
        "\n",
        "\n",
        "    return bmi_value"
      ]
    },
    {
      "cell_type": "markdown",
      "metadata": {
        "nbgrader": {
          "grade": false,
          "grade_id": "bmi-validate",
          "locked": true,
          "schema_version": 1,
          "solution": false
        },
        "id": "FmxZduBU2Jng"
      },
      "source": [
        "Test your code below.  The BMI for a weight of 90.7 kg and height of 182 cm should be approximately 27.38"
      ]
    },
    {
      "cell_type": "markdown",
      "source": [],
      "metadata": {
        "id": "oBzxVwm97Ks7"
      }
    },
    {
      "cell_type": "code",
      "execution_count": 3,
      "metadata": {
        "nbgrader": {
          "grade": true,
          "grade_id": "bmi-test",
          "locked": true,
          "points": 0,
          "schema_version": 1,
          "solution": false
        },
        "id": "sTW-9_bw2Jng"
      },
      "outputs": [],
      "source": [
        "assert round(calculate_bmi(90.7, 1.82), 2) == 27.38\n",
        "assert round(calculate_bmi(91, 1.80), 2) == 28.09\n",
        "assert round(calculate_bmi(70, 1.70), 2) == 24.22"
      ]
    },
    {
      "cell_type": "code",
      "execution_count": 4,
      "metadata": {
        "id": "kgNpshuh2Jnh",
        "outputId": "c126f837-52a0-408a-977c-387357f66795",
        "colab": {
          "base_uri": "https://localhost:8080/"
        }
      },
      "outputs": [
        {
          "output_type": "stream",
          "name": "stdout",
          "text": [
            "27.38195870064002\n"
          ]
        }
      ],
      "source": [
        "bmi_result = calculate_bmi(90.7, 1.82)\n",
        "\n",
        "\n",
        "print(bmi_result)"
      ]
    },
    {
      "cell_type": "markdown",
      "metadata": {
        "id": "paGTW4rB2Jnh"
      },
      "source": [
        "### 5.2 Weight from BMI\n",
        "\n",
        "For the next operation, we're going to calculate Weight in kilograms, given someone's BMI and their height in meters.\n",
        "\n",
        "This calculation will be:  $ weight\\,\\mathrm{kg} = {bmi}\\times{(height\\,\\mathrm{m})^2} $"
      ]
    },
    {
      "cell_type": "code",
      "execution_count": 5,
      "metadata": {
        "id": "56F8PEBb2Jnh"
      },
      "outputs": [],
      "source": [
        "def calculate_weight(bmi, height_m):\n",
        "\n",
        "    ### BEGIN SOLUTION\n",
        "    weight_kg = bmi * (height_m ** 2)\n",
        "    ### END SOLUTION\n",
        "\n",
        "\n",
        "    return weight_kg"
      ]
    },
    {
      "cell_type": "code",
      "execution_count": 7,
      "metadata": {
        "id": "Yo_jNy1e2Jni"
      },
      "outputs": [],
      "source": [
        "assert round(calculate_weight(27.38, 1.82),2) == 90.69\n",
        "assert round(calculate_weight(28.09, 1.80),2) == 91.01\n",
        "assert round(calculate_weight(24.22, 1.70),2) == 70.00"
      ]
    },
    {
      "cell_type": "code",
      "execution_count": 6,
      "metadata": {
        "id": "LujmjGfK2Jni",
        "outputId": "1c53e29a-1156-422b-fdb1-0ba4a9eb0bab",
        "colab": {
          "base_uri": "https://localhost:8080/"
        }
      },
      "outputs": [
        {
          "output_type": "stream",
          "name": "stdout",
          "text": [
            "The weight for a BMI of 27.38 and height of 1.82 m is: 90.69 kg\n"
          ]
        }
      ],
      "source": [
        "bmi = 27.38  # BMI value\n",
        "height = 1.82  # height in meters\n",
        "\n",
        "weight = calculate_weight(bmi, height)\n",
        "print(f\"The weight for a BMI of {bmi} and height of {height} m is: {weight:.2f} kg\")"
      ]
    },
    {
      "cell_type": "markdown",
      "metadata": {
        "id": "f8pennRi2Jni"
      },
      "source": [
        "### 5.3 Height from BMI\n",
        "\n",
        "\n",
        "For the next operation, we're going to calculate height in meters, given someone's BMI and their weight in kilograms.\n",
        "\n",
        "This calculation will be:  $ {height\\,\\mathrm{m}} = \\sqrt{\\frac{weight\\,\\mathrm{kg}}{bmi}} $\n",
        "\n",
        "For this equation, you'll notice that we need to calculate a square root.  Python has a function for this of course, `sqrt`, but that function is not part of the base Python language. Some Python features have to be imported.  The first line of code below imports the `sqrt` function from the [math](https://docs.python.org/3/library/math.html) library.\n"
      ]
    },
    {
      "cell_type": "code",
      "execution_count": 8,
      "metadata": {
        "id": "b84Ia_JE2Jni"
      },
      "outputs": [],
      "source": [
        "from math import sqrt\n",
        "\n",
        "def height(bmi, weight_kg):\n",
        "\n",
        "    ### BEGIN SOLUTION\n",
        "    height_m = sqrt(weight_kg / bmi)\n",
        "    ### END SOLUTION\n",
        "\n",
        "    return  height_m"
      ]
    },
    {
      "cell_type": "code",
      "execution_count": 9,
      "metadata": {
        "id": "OF4VHphy2Jni"
      },
      "outputs": [],
      "source": [
        "assert round(height(27.38, 90.69),2) == 1.82\n",
        "assert round(height(28.09, 91.01),2) == 1.80\n",
        "assert round(height(24.22, 70.00),2) == 1.70"
      ]
    },
    {
      "cell_type": "code",
      "execution_count": 10,
      "metadata": {
        "id": "flMHKSe92Jni",
        "outputId": "fc010f36-2478-4e1e-f17e-3233c54ef3fb",
        "colab": {
          "base_uri": "https://localhost:8080/"
        }
      },
      "outputs": [
        {
          "output_type": "stream",
          "name": "stdout",
          "text": [
            "1.7999841777715266\n"
          ]
        }
      ],
      "source": [
        "height_result = height(28.09, 91.01)\n",
        "print(height_result)"
      ]
    },
    {
      "cell_type": "markdown",
      "metadata": {
        "id": "CsDPzX2i2Jni"
      },
      "source": [
        "### 5.4 BMI using Feet, Inches, and Pounds\n",
        "\n",
        "Now, let's try to to create a function that knows how to first convert between imperial units (US inches and pounds) and SI units before calculating the bmi.  For these calculations use:\n",
        "\n",
        "* $ 1\\,\\mathrm{inch} = 2.54\\,\\mathrm{cm} $\n",
        "* $ 1\\,\\mathrm{lb} = 0.45454545\\,\\mathrm{kg} $\n"
      ]
    },
    {
      "cell_type": "code",
      "execution_count": 11,
      "metadata": {
        "id": "srBEpCM02Jnj"
      },
      "outputs": [],
      "source": [
        "def bmi_us(weight_lb, height_ft, height_in):\n",
        "\n",
        "    ### BEGIN SOLUTION\n",
        "    inches_to_cm = 2.54\n",
        "    lbs_to_kg = 0.45454545\n",
        "\n",
        "\n",
        "    # Convert height to centimeters and then to meters\n",
        "    total_height_in_cm = (height_ft * 12 + height_in) * inches_to_cm\n",
        "    height_m = total_height_in_cm / 100  # Convert centimeters to meters\n",
        "\n",
        "    # Convert weight to kilograms\n",
        "    weight_kg = weight_lb * lbs_to_kg\n",
        "\n",
        "    # Calculate BMI\n",
        "    bmi_value = weight_kg / (height_m ** 2)\n",
        "    return bmi_value\n",
        "\n",
        "\n"
      ]
    },
    {
      "cell_type": "code",
      "execution_count": 12,
      "metadata": {
        "id": "jB-Bytac2Jnj",
        "outputId": "135a77ed-5aab-4774-bd43-7b5454702308",
        "colab": {
          "base_uri": "https://localhost:8080/"
        }
      },
      "outputs": [
        {
          "output_type": "stream",
          "name": "stdout",
          "text": [
            "30.494583474450884\n"
          ]
        }
      ],
      "source": [
        "assert round(bmi_us(250,6,4),2) == 30.49\n",
        "assert round(bmi_us(120,5,0),2) == 23.48\n",
        "assert round(bmi_us(130,5,10),2) == 18.69\n",
        "\n",
        "bmi_result = bmi_us(250, 6, 4)\n",
        "print(bmi_result)\n"
      ]
    },
    {
      "cell_type": "markdown",
      "metadata": {
        "nbgrader": {
          "grade": false,
          "grade_id": "weight",
          "locked": true,
          "schema_version": 1,
          "solution": false
        },
        "id": "JqqxOa3q2Jnj"
      },
      "source": [
        "### 5.5 Target BMI\n",
        "Assuming that someone doesn't change height over time, what is the approximate number of days it will take for someone to get from the BMI you found in #3 above to a BMI of 24.9 (typically regarded as being in a healthy range) while losing weight at a rate of 0.75 kg per week.\n",
        "\n",
        "As needed, use variables and multiple calculation steps to make your thought process visible in the code. For instance, rather than using the notebook as a calculator, use variables for intermediate answers.\n",
        "\n",
        "Again, you will receive points both for correct answers as well as for style.\n",
        "\n",
        "In addition to the bmi, height, and weight equations we already defined above, here is some of the algebra to help you along:\n",
        "\n",
        "$ height\\,\\mathrm{m} = \\frac{height\\,\\mathrm{cm}}{100} $\n",
        "\n",
        "$ days = {weeks} x {7} $\n",
        "\n",
        "$ weeks\\,required\\,to\\,change\\,weight = \\frac{current\\,weight - target\\,weight}{weight\\,change\\,per\\,week} $"
      ]
    },
    {
      "cell_type": "code",
      "execution_count": 13,
      "metadata": {
        "nbgrader": {
          "grade": false,
          "grade_id": "weight-answer",
          "locked": false,
          "schema_version": 1,
          "solution": true
        },
        "id": "sI7St7kB2Jnj"
      },
      "outputs": [],
      "source": [
        "from math import sqrt\n",
        "\n",
        "def lose_weight(weight, height_cm, kg_per_week, target_bmi):\n",
        "    # Convert height from cm to meters\n",
        "    height_m = height_cm / 100\n",
        "\n",
        "    # Calculate the target weight for the desired BMI\n",
        "    target_weight = target_bmi * (height_m ** 2)\n",
        "\n",
        "    # Calculate the weight change needed\n",
        "    weight_change_needed = weight - target_weight\n",
        "\n",
        "    # Calculate the number of weeks required to reach the target weight\n",
        "    weeks_required = weight_change_needed / kg_per_week\n",
        "\n",
        "    # Convert weeks to days\n",
        "    days = weeks_required * 7\n",
        "\n",
        "    return days\n"
      ]
    },
    {
      "cell_type": "markdown",
      "metadata": {
        "id": "Jv0cJdHA2Jnj"
      },
      "source": [
        "Test your code below.  It should return approximately 76.73 days for the given parameters above."
      ]
    },
    {
      "cell_type": "code",
      "execution_count": 14,
      "metadata": {
        "nbgrader": {
          "grade": true,
          "grade_id": "weight-tests",
          "locked": true,
          "points": 5,
          "schema_version": 1,
          "solution": false
        },
        "collapsed": true,
        "id": "LFC8KYdP2Jnk"
      },
      "outputs": [],
      "source": [
        "assert round(lose_weight(90.7, 182, 0.75, 24.9),2) == 76.73\n",
        "assert round(lose_weight(91, 180, 0.75, 24.9),2) == 96.36\n",
        "assert round(lose_weight(70, 170, 0.75, 22),2) == 59.92\n",
        "assert round(lose_weight(70, 170, 2, 22),2) == 22.47\n"
      ]
    },
    {
      "cell_type": "code",
      "execution_count": null,
      "metadata": {
        "id": "42M9FWZj2Jnk",
        "outputId": "cda1284d-c889-414e-f117-4061d5216ba4",
        "colab": {
          "base_uri": "https://localhost:8080/"
        }
      },
      "outputs": [
        {
          "output_type": "stream",
          "name": "stdout",
          "text": [
            "76.73157333333342\n"
          ]
        }
      ],
      "source": [
        "days_result = lose_weight(90.7, 182, 0.75, 24.9)\n",
        "print(days_result)"
      ]
    },
    {
      "cell_type": "markdown",
      "metadata": {
        "id": "7hYl_pUc2Jnk"
      },
      "source": [
        "---\n",
        "\n",
        "### 5.6 Your choice\n",
        "\n",
        "Every one of us has done projects where some kind of simple mathematical calculators are required.  Think about something recent from your field of expertise or an area of interest. Choose something that you find interesting and write the Python code required to do that calculation.  These examples show the level of complexity you need to have (not very complex).\n",
        "\n",
        "* $ bmr_{male} = 66 + (13.7 \\times weight\\,\\mathrm{kg}) + (5 \\times height\\,\\mathrm{m}) - (6.8 \\times age\\,\\mathrm{yr}) $\n",
        "\n",
        "* $ bmr_{female} = 655 + (9.6 \\times weight\\,\\mathrm{kg}) + (1.8 \\times height\\,\\mathrm{cm}) - (4.7 \\times age\\,\\mathrm{yr}) $\n",
        "\n",
        "* $ Batting\\,Average = \\frac{Total\\,Hits}{Total\\,at\\,Bats} $\n",
        "\n",
        "* $ Area\\,of\\,circle = \\pi r^2 $\n",
        "\n",
        "* $ F = \\frac{1}{2} m v^2 $\n",
        "\n",
        "Then provide the code for how you would use variables and example values to do the calculation.  You do not to wrap this in a Python function. Just include the code and variables as I've shown below with the BMI calculation that we've been using. As the last command in the cell, print out the value of your calculation as shown in my example.\n"
      ]
    },
    {
      "cell_type": "code",
      "execution_count": 15,
      "metadata": {
        "id": "KzAt0zfe2Jnk",
        "outputId": "ce7a4a25-ebe1-4249-d853-a2424de7adb4",
        "colab": {
          "base_uri": "https://localhost:8080/"
        }
      },
      "outputs": [
        {
          "output_type": "stream",
          "name": "stdout",
          "text": [
            "BMR for female: 1483.0\n"
          ]
        }
      ],
      "source": [
        "import math  # Import math module to use the value of pi\n",
        "\n",
        "# Example values for BMR calculation\n",
        "weight_kg = 70           # Weight in kilograms\n",
        "height_cm = 165          # Height in centimeters\n",
        "age_yr = 30              # Age in years\n",
        "\n",
        "# Calculate BMR for a female using the formula\n",
        "bmr_female = 655 + (9.6 * weight_kg) + (1.8 * height_cm) - (4.7 * age_yr)\n",
        "\n",
        "# Print the BMR result\n",
        "print(\"BMR for female:\", bmr_female)"
      ]
    },
    {
      "cell_type": "code",
      "execution_count": 16,
      "metadata": {
        "id": "SkU3h-2u2Jnk",
        "outputId": "4a59c0b8-596d-4b98-b988-bd542b04ea02",
        "colab": {
          "base_uri": "https://localhost:8080/"
        }
      },
      "outputs": [
        {
          "output_type": "stream",
          "name": "stdout",
          "text": [
            "Area of the circle: 78.53981633974483\n"
          ]
        }
      ],
      "source": [
        "# Calculate the area of a circle with a radius of 5 cm\n",
        "radius_cm = 5\n",
        "area_circle = math.pi * (radius_cm ** 2)\n",
        "\n",
        "# Print the area of the circle\n",
        "print(\"Area of the circle:\", area_circle)"
      ]
    },
    {
      "cell_type": "code",
      "execution_count": 17,
      "metadata": {
        "id": "k8Z57sLm2Jnk",
        "outputId": "09f13693-212b-4d2a-9634-989f8db26b9c",
        "colab": {
          "base_uri": "https://localhost:8080/"
        }
      },
      "outputs": [
        {
          "output_type": "stream",
          "name": "stdout",
          "text": [
            "Force: 9.0\n"
          ]
        }
      ],
      "source": [
        "# Calculate the force with mass of 2 kg and velocity of 3 m/s\n",
        "mass_kg = 2\n",
        "velocity_m_s = 3\n",
        "force = 0.5 * mass_kg * (velocity_m_s ** 2)\n",
        "\n",
        "# Print the force\n",
        "print(\"Force:\", force)"
      ]
    },
    {
      "cell_type": "markdown",
      "metadata": {
        "id": "U7r6Mrec2Jnk"
      },
      "source": [
        "---\n",
        "\n",
        "## Check your work above\n",
        "\n",
        "If you didn't get them all correct, take a few minutes to think through those that aren't correct.\n",
        "\n",
        "\n",
        "## Submitting Your Work\n",
        "\n",
        "In order to submit your work, you'll need to save this notebook file back to GitHub.  To do that in Google Colab:\n",
        "1. File -> Save a Copy in GitHub\n",
        "2. Make sure your HDS5210 repository is selected\n",
        "3. Make sure the file name includes the week number like this: `week02/week02_assignment_2.ipynb`\n",
        "4. Add a commit message that means something\n",
        "\n",
        "**Be sure week names are lowercase and use a two digit week number!!**\n",
        "\n",
        "**Be sure you use the same file name provided by the instructor!!**\n",
        "\n"
      ]
    }
  ],
  "metadata": {
    "celltoolbar": "Create Assignment",
    "kernelspec": {
      "display_name": "Python 3",
      "language": "python",
      "name": "python3"
    },
    "language_info": {
      "codemirror_mode": {
        "name": "ipython",
        "version": 3
      },
      "file_extension": ".py",
      "mimetype": "text/x-python",
      "name": "python",
      "nbconvert_exporter": "python",
      "pygments_lexer": "ipython3",
      "version": "3.6.7"
    },
    "colab": {
      "provenance": [],
      "toc_visible": true,
      "include_colab_link": true
    }
  },
  "nbformat": 4,
  "nbformat_minor": 0
}
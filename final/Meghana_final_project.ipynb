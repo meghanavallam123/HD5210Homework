{
  "nbformat": 4,
  "nbformat_minor": 0,
  "metadata": {
    "colab": {
      "provenance": [],
      "include_colab_link": true
    },
    "kernelspec": {
      "name": "python3",
      "display_name": "Python 3"
    },
    "language_info": {
      "name": "python"
    }
  },
  "cells": [
    {
      "cell_type": "markdown",
      "metadata": {
        "id": "view-in-github",
        "colab_type": "text"
      },
      "source": [
        "<a href=\"https://colab.research.google.com/github/meghanavallam123/HD5210Homework/blob/main/final/Meghana_final_project.ipynb\" target=\"_parent\"><img src=\"https://colab.research.google.com/assets/colab-badge.svg\" alt=\"Open In Colab\"/></a>"
      ]
    },
    {
      "cell_type": "markdown",
      "source": [
        "# COVID-19 Data Insights for Healthcare and Public Health Analysis"
      ],
      "metadata": {
        "id": "hluf02eLpPHB"
      }
    },
    {
      "cell_type": "markdown",
      "source": [
        "## Short Description:\n",
        "\n",
        "This project explores COVID-19 data to generate valuable insights that could help healthcare professionals, policymakers, and public health experts better understand pandemic trends. It involves merging datasets, transforming fields, and visualizing data to identify patterns, analyze trends, and make the data more accessible for decision-making."
      ],
      "metadata": {
        "id": "41wrJjKJpRLe"
      }
    },
    {
      "cell_type": "markdown",
      "source": [
        "## DATA ACCESS AND FORMATS"
      ],
      "metadata": {
        "id": "RaEB0d01ea3F"
      }
    },
    {
      "cell_type": "markdown",
      "source": [
        "Upload the dataset here to colab"
      ],
      "metadata": {
        "id": "2lXkX334fXc_"
      }
    },
    {
      "cell_type": "code",
      "source": [
        "from google.colab import files\n",
        "import zipfile\n",
        "import os\n",
        "\n",
        "# Step 1: Upload the ZIP file\n",
        "uploaded = files.upload()\n",
        "\n",
        "# Step 2: Extract the contents of the ZIP file\n",
        "for file_name in uploaded.keys():\n",
        "    if file_name.endswith('.zip'):\n",
        "        # Create a directory for the extracted files\n",
        "        extraction_path = '/content/dataset/'\n",
        "        os.makedirs(extraction_path, exist_ok=True)\n",
        "\n",
        "        # Open the ZIP file\n",
        "        with zipfile.ZipFile(file_name, 'r') as zip_ref:\n",
        "            zip_ref.extractall(extraction_path)\n",
        "\n",
        "        print(f\"ZIP file extracted to {extraction_path}\")\n",
        "    else:\n",
        "        print(f\"Uploaded file is not a ZIP file: {file_name}\")"
      ],
      "metadata": {
        "colab": {
          "base_uri": "https://localhost:8080/",
          "height": 91
        },
        "id": "iB-eHfU9TAHw",
        "outputId": "65d4be8a-933e-4b73-ef35-60dc4fbefcf5"
      },
      "execution_count": null,
      "outputs": [
        {
          "output_type": "display_data",
          "data": {
            "text/plain": [
              "<IPython.core.display.HTML object>"
            ],
            "text/html": [
              "\n",
              "     <input type=\"file\" id=\"files-d14c65af-0417-456e-aaba-2fbdb6d1ac4b\" name=\"files[]\" multiple disabled\n",
              "        style=\"border:none\" />\n",
              "     <output id=\"result-d14c65af-0417-456e-aaba-2fbdb6d1ac4b\">\n",
              "      Upload widget is only available when the cell has been executed in the\n",
              "      current browser session. Please rerun this cell to enable.\n",
              "      </output>\n",
              "      <script>// Copyright 2017 Google LLC\n",
              "//\n",
              "// Licensed under the Apache License, Version 2.0 (the \"License\");\n",
              "// you may not use this file except in compliance with the License.\n",
              "// You may obtain a copy of the License at\n",
              "//\n",
              "//      http://www.apache.org/licenses/LICENSE-2.0\n",
              "//\n",
              "// Unless required by applicable law or agreed to in writing, software\n",
              "// distributed under the License is distributed on an \"AS IS\" BASIS,\n",
              "// WITHOUT WARRANTIES OR CONDITIONS OF ANY KIND, either express or implied.\n",
              "// See the License for the specific language governing permissions and\n",
              "// limitations under the License.\n",
              "\n",
              "/**\n",
              " * @fileoverview Helpers for google.colab Python module.\n",
              " */\n",
              "(function(scope) {\n",
              "function span(text, styleAttributes = {}) {\n",
              "  const element = document.createElement('span');\n",
              "  element.textContent = text;\n",
              "  for (const key of Object.keys(styleAttributes)) {\n",
              "    element.style[key] = styleAttributes[key];\n",
              "  }\n",
              "  return element;\n",
              "}\n",
              "\n",
              "// Max number of bytes which will be uploaded at a time.\n",
              "const MAX_PAYLOAD_SIZE = 100 * 1024;\n",
              "\n",
              "function _uploadFiles(inputId, outputId) {\n",
              "  const steps = uploadFilesStep(inputId, outputId);\n",
              "  const outputElement = document.getElementById(outputId);\n",
              "  // Cache steps on the outputElement to make it available for the next call\n",
              "  // to uploadFilesContinue from Python.\n",
              "  outputElement.steps = steps;\n",
              "\n",
              "  return _uploadFilesContinue(outputId);\n",
              "}\n",
              "\n",
              "// This is roughly an async generator (not supported in the browser yet),\n",
              "// where there are multiple asynchronous steps and the Python side is going\n",
              "// to poll for completion of each step.\n",
              "// This uses a Promise to block the python side on completion of each step,\n",
              "// then passes the result of the previous step as the input to the next step.\n",
              "function _uploadFilesContinue(outputId) {\n",
              "  const outputElement = document.getElementById(outputId);\n",
              "  const steps = outputElement.steps;\n",
              "\n",
              "  const next = steps.next(outputElement.lastPromiseValue);\n",
              "  return Promise.resolve(next.value.promise).then((value) => {\n",
              "    // Cache the last promise value to make it available to the next\n",
              "    // step of the generator.\n",
              "    outputElement.lastPromiseValue = value;\n",
              "    return next.value.response;\n",
              "  });\n",
              "}\n",
              "\n",
              "/**\n",
              " * Generator function which is called between each async step of the upload\n",
              " * process.\n",
              " * @param {string} inputId Element ID of the input file picker element.\n",
              " * @param {string} outputId Element ID of the output display.\n",
              " * @return {!Iterable<!Object>} Iterable of next steps.\n",
              " */\n",
              "function* uploadFilesStep(inputId, outputId) {\n",
              "  const inputElement = document.getElementById(inputId);\n",
              "  inputElement.disabled = false;\n",
              "\n",
              "  const outputElement = document.getElementById(outputId);\n",
              "  outputElement.innerHTML = '';\n",
              "\n",
              "  const pickedPromise = new Promise((resolve) => {\n",
              "    inputElement.addEventListener('change', (e) => {\n",
              "      resolve(e.target.files);\n",
              "    });\n",
              "  });\n",
              "\n",
              "  const cancel = document.createElement('button');\n",
              "  inputElement.parentElement.appendChild(cancel);\n",
              "  cancel.textContent = 'Cancel upload';\n",
              "  const cancelPromise = new Promise((resolve) => {\n",
              "    cancel.onclick = () => {\n",
              "      resolve(null);\n",
              "    };\n",
              "  });\n",
              "\n",
              "  // Wait for the user to pick the files.\n",
              "  const files = yield {\n",
              "    promise: Promise.race([pickedPromise, cancelPromise]),\n",
              "    response: {\n",
              "      action: 'starting',\n",
              "    }\n",
              "  };\n",
              "\n",
              "  cancel.remove();\n",
              "\n",
              "  // Disable the input element since further picks are not allowed.\n",
              "  inputElement.disabled = true;\n",
              "\n",
              "  if (!files) {\n",
              "    return {\n",
              "      response: {\n",
              "        action: 'complete',\n",
              "      }\n",
              "    };\n",
              "  }\n",
              "\n",
              "  for (const file of files) {\n",
              "    const li = document.createElement('li');\n",
              "    li.append(span(file.name, {fontWeight: 'bold'}));\n",
              "    li.append(span(\n",
              "        `(${file.type || 'n/a'}) - ${file.size} bytes, ` +\n",
              "        `last modified: ${\n",
              "            file.lastModifiedDate ? file.lastModifiedDate.toLocaleDateString() :\n",
              "                                    'n/a'} - `));\n",
              "    const percent = span('0% done');\n",
              "    li.appendChild(percent);\n",
              "\n",
              "    outputElement.appendChild(li);\n",
              "\n",
              "    const fileDataPromise = new Promise((resolve) => {\n",
              "      const reader = new FileReader();\n",
              "      reader.onload = (e) => {\n",
              "        resolve(e.target.result);\n",
              "      };\n",
              "      reader.readAsArrayBuffer(file);\n",
              "    });\n",
              "    // Wait for the data to be ready.\n",
              "    let fileData = yield {\n",
              "      promise: fileDataPromise,\n",
              "      response: {\n",
              "        action: 'continue',\n",
              "      }\n",
              "    };\n",
              "\n",
              "    // Use a chunked sending to avoid message size limits. See b/62115660.\n",
              "    let position = 0;\n",
              "    do {\n",
              "      const length = Math.min(fileData.byteLength - position, MAX_PAYLOAD_SIZE);\n",
              "      const chunk = new Uint8Array(fileData, position, length);\n",
              "      position += length;\n",
              "\n",
              "      const base64 = btoa(String.fromCharCode.apply(null, chunk));\n",
              "      yield {\n",
              "        response: {\n",
              "          action: 'append',\n",
              "          file: file.name,\n",
              "          data: base64,\n",
              "        },\n",
              "      };\n",
              "\n",
              "      let percentDone = fileData.byteLength === 0 ?\n",
              "          100 :\n",
              "          Math.round((position / fileData.byteLength) * 100);\n",
              "      percent.textContent = `${percentDone}% done`;\n",
              "\n",
              "    } while (position < fileData.byteLength);\n",
              "  }\n",
              "\n",
              "  // All done.\n",
              "  yield {\n",
              "    response: {\n",
              "      action: 'complete',\n",
              "    }\n",
              "  };\n",
              "}\n",
              "\n",
              "scope.google = scope.google || {};\n",
              "scope.google.colab = scope.google.colab || {};\n",
              "scope.google.colab._files = {\n",
              "  _uploadFiles,\n",
              "  _uploadFilesContinue,\n",
              "};\n",
              "})(self);\n",
              "</script> "
            ]
          },
          "metadata": {}
        },
        {
          "output_type": "stream",
          "name": "stdout",
          "text": [
            "Saving Healthcare_Associated_Infections.zip to Healthcare_Associated_Infections.zip\n",
            "ZIP file extracted to /content/dataset/\n"
          ]
        }
      ]
    },
    {
      "cell_type": "code",
      "source": [
        "import os\n",
        "\n",
        "# List the extracted files in the 'dataset' directory\n",
        "dataset_path = '/content/dataset/'\n",
        "extracted_files = os.listdir(dataset_path)\n",
        "\n",
        "# Display the extracted files\n",
        "print(\"Files extracted from the ZIP archive:\")\n",
        "for file in extracted_files:\n",
        "    print(file)"
      ],
      "metadata": {
        "colab": {
          "base_uri": "https://localhost:8080/"
        },
        "id": "_6BkSEm0TArC",
        "outputId": "e466aa55-9993-4810-eff0-a50d1028c595"
      },
      "execution_count": null,
      "outputs": [
        {
          "output_type": "stream",
          "name": "stdout",
          "text": [
            "Files extracted from the ZIP archive:\n",
            "Healthcare_Associated_Infections_-_Hospital.csv\n"
          ]
        }
      ]
    },
    {
      "cell_type": "markdown",
      "source": [
        "Inspect the Dataset"
      ],
      "metadata": {
        "id": "ziFcLEkdVYlu"
      }
    },
    {
      "cell_type": "code",
      "source": [
        "import pandas as pd\n",
        "\n",
        "# Load the dataset into a pandas DataFrame\n",
        "file_path = os.path.join(dataset_path, 'Healthcare_Associated_Infections_-_Hospital.csv')\n",
        "df = pd.read_csv(file_path)\n",
        "\n",
        "# Display basic information about the dataset\n",
        "print(\"Dataset Info:\")\n",
        "df.info()\n",
        "\n",
        "# Show the first few rows of the dataset to inspect the data\n",
        "print(\"\\nFirst few rows of the dataset:\")\n",
        "df.head()"
      ],
      "metadata": {
        "colab": {
          "base_uri": "https://localhost:8080/",
          "height": 872
        },
        "id": "bZBqNB96VQYG",
        "outputId": "e6b71945-0733-4b66-e365-5cdd92df9515"
      },
      "execution_count": null,
      "outputs": [
        {
          "output_type": "stream",
          "name": "stdout",
          "text": [
            "Dataset Info:\n",
            "<class 'pandas.core.frame.DataFrame'>\n",
            "RangeIndex: 222864 entries, 0 to 222863\n",
            "Data columns (total 16 columns):\n",
            " #   Column                Non-Null Count   Dtype \n",
            "---  ------                --------------   ----- \n",
            " 0   Provider ID           222864 non-null  int64 \n",
            " 1   Hospital Name         222864 non-null  object\n",
            " 2   Address               222864 non-null  object\n",
            " 3   City                  222864 non-null  object\n",
            " 4   State                 222864 non-null  object\n",
            " 5   ZIP Code              222864 non-null  int64 \n",
            " 6   County Name           222240 non-null  object\n",
            " 7   Phone Number          222864 non-null  int64 \n",
            " 8   Measure Name          222864 non-null  object\n",
            " 9   Measure ID            222864 non-null  object\n",
            " 10  Compared to National  222864 non-null  object\n",
            " 11  Score                 222864 non-null  object\n",
            " 12  Footnote              141684 non-null  object\n",
            " 13  Measure Start Date    222864 non-null  object\n",
            " 14  Measure End Date      222864 non-null  object\n",
            " 15  Location              222864 non-null  object\n",
            "dtypes: int64(3), object(13)\n",
            "memory usage: 27.2+ MB\n",
            "\n",
            "First few rows of the dataset:\n"
          ]
        },
        {
          "output_type": "execute_result",
          "data": {
            "text/plain": [
              "   Provider ID                  Hospital Name                     Address  \\\n",
              "0        10005  MARSHALL MEDICAL CENTER SOUTH  2505 U S HIGHWAY 431 NORTH   \n",
              "1        10005  MARSHALL MEDICAL CENTER SOUTH  2505 U S HIGHWAY 431 NORTH   \n",
              "2        10005  MARSHALL MEDICAL CENTER SOUTH  2505 U S HIGHWAY 431 NORTH   \n",
              "3        10005  MARSHALL MEDICAL CENTER SOUTH  2505 U S HIGHWAY 431 NORTH   \n",
              "4        10005  MARSHALL MEDICAL CENTER SOUTH  2505 U S HIGHWAY 431 NORTH   \n",
              "\n",
              "   City State  ZIP Code County Name  Phone Number  \\\n",
              "0  BOAZ    AL     35957    MARSHALL    2565938310   \n",
              "1  BOAZ    AL     35957    MARSHALL    2565938310   \n",
              "2  BOAZ    AL     35957    MARSHALL    2565938310   \n",
              "3  BOAZ    AL     35957    MARSHALL    2565938310   \n",
              "4  BOAZ    AL     35957    MARSHALL    2565938310   \n",
              "\n",
              "                     Measure Name       Measure ID  \\\n",
              "0  CLABSI: Lower Confidence Limit   HAI_1_CI_LOWER   \n",
              "1  CLABSI: Upper Confidence Limit   HAI_1_CI_UPPER   \n",
              "2    CLABSI: Number of Procedures  HAI_1_DOPC_DAYS   \n",
              "3         CLABSI: Predicted Cases  HAI_1_ELIGCASES   \n",
              "4          CLABSI: Observed Cases  HAI_1_NUMERATOR   \n",
              "\n",
              "                   Compared to National  Score Footnote Measure Start Date  \\\n",
              "0  No Different than National Benchmark  0.165      NaN         01/01/2015   \n",
              "1  No Different than National Benchmark  3.249      NaN         01/01/2015   \n",
              "2  No Different than National Benchmark   1485      NaN         01/01/2015   \n",
              "3  No Different than National Benchmark  2.034      NaN         01/01/2015   \n",
              "4  No Different than National Benchmark      2      NaN         01/01/2015   \n",
              "\n",
              "  Measure End Date                                      Location  \n",
              "0       06/30/2015  2505 U S HIGHWAY 431 NORTH\\nBOAZ, AL 35957\\n  \n",
              "1       06/30/2015  2505 U S HIGHWAY 431 NORTH\\nBOAZ, AL 35957\\n  \n",
              "2       06/30/2015  2505 U S HIGHWAY 431 NORTH\\nBOAZ, AL 35957\\n  \n",
              "3       06/30/2015  2505 U S HIGHWAY 431 NORTH\\nBOAZ, AL 35957\\n  \n",
              "4       06/30/2015  2505 U S HIGHWAY 431 NORTH\\nBOAZ, AL 35957\\n  "
            ],
            "text/html": [
              "\n",
              "  <div id=\"df-a1fdb1f0-03ec-47c0-a75f-fedfa2fa7088\" class=\"colab-df-container\">\n",
              "    <div>\n",
              "<style scoped>\n",
              "    .dataframe tbody tr th:only-of-type {\n",
              "        vertical-align: middle;\n",
              "    }\n",
              "\n",
              "    .dataframe tbody tr th {\n",
              "        vertical-align: top;\n",
              "    }\n",
              "\n",
              "    .dataframe thead th {\n",
              "        text-align: right;\n",
              "    }\n",
              "</style>\n",
              "<table border=\"1\" class=\"dataframe\">\n",
              "  <thead>\n",
              "    <tr style=\"text-align: right;\">\n",
              "      <th></th>\n",
              "      <th>Provider ID</th>\n",
              "      <th>Hospital Name</th>\n",
              "      <th>Address</th>\n",
              "      <th>City</th>\n",
              "      <th>State</th>\n",
              "      <th>ZIP Code</th>\n",
              "      <th>County Name</th>\n",
              "      <th>Phone Number</th>\n",
              "      <th>Measure Name</th>\n",
              "      <th>Measure ID</th>\n",
              "      <th>Compared to National</th>\n",
              "      <th>Score</th>\n",
              "      <th>Footnote</th>\n",
              "      <th>Measure Start Date</th>\n",
              "      <th>Measure End Date</th>\n",
              "      <th>Location</th>\n",
              "    </tr>\n",
              "  </thead>\n",
              "  <tbody>\n",
              "    <tr>\n",
              "      <th>0</th>\n",
              "      <td>10005</td>\n",
              "      <td>MARSHALL MEDICAL CENTER SOUTH</td>\n",
              "      <td>2505 U S HIGHWAY 431 NORTH</td>\n",
              "      <td>BOAZ</td>\n",
              "      <td>AL</td>\n",
              "      <td>35957</td>\n",
              "      <td>MARSHALL</td>\n",
              "      <td>2565938310</td>\n",
              "      <td>CLABSI: Lower Confidence Limit</td>\n",
              "      <td>HAI_1_CI_LOWER</td>\n",
              "      <td>No Different than National Benchmark</td>\n",
              "      <td>0.165</td>\n",
              "      <td>NaN</td>\n",
              "      <td>01/01/2015</td>\n",
              "      <td>06/30/2015</td>\n",
              "      <td>2505 U S HIGHWAY 431 NORTH\\nBOAZ, AL 35957\\n</td>\n",
              "    </tr>\n",
              "    <tr>\n",
              "      <th>1</th>\n",
              "      <td>10005</td>\n",
              "      <td>MARSHALL MEDICAL CENTER SOUTH</td>\n",
              "      <td>2505 U S HIGHWAY 431 NORTH</td>\n",
              "      <td>BOAZ</td>\n",
              "      <td>AL</td>\n",
              "      <td>35957</td>\n",
              "      <td>MARSHALL</td>\n",
              "      <td>2565938310</td>\n",
              "      <td>CLABSI: Upper Confidence Limit</td>\n",
              "      <td>HAI_1_CI_UPPER</td>\n",
              "      <td>No Different than National Benchmark</td>\n",
              "      <td>3.249</td>\n",
              "      <td>NaN</td>\n",
              "      <td>01/01/2015</td>\n",
              "      <td>06/30/2015</td>\n",
              "      <td>2505 U S HIGHWAY 431 NORTH\\nBOAZ, AL 35957\\n</td>\n",
              "    </tr>\n",
              "    <tr>\n",
              "      <th>2</th>\n",
              "      <td>10005</td>\n",
              "      <td>MARSHALL MEDICAL CENTER SOUTH</td>\n",
              "      <td>2505 U S HIGHWAY 431 NORTH</td>\n",
              "      <td>BOAZ</td>\n",
              "      <td>AL</td>\n",
              "      <td>35957</td>\n",
              "      <td>MARSHALL</td>\n",
              "      <td>2565938310</td>\n",
              "      <td>CLABSI: Number of Procedures</td>\n",
              "      <td>HAI_1_DOPC_DAYS</td>\n",
              "      <td>No Different than National Benchmark</td>\n",
              "      <td>1485</td>\n",
              "      <td>NaN</td>\n",
              "      <td>01/01/2015</td>\n",
              "      <td>06/30/2015</td>\n",
              "      <td>2505 U S HIGHWAY 431 NORTH\\nBOAZ, AL 35957\\n</td>\n",
              "    </tr>\n",
              "    <tr>\n",
              "      <th>3</th>\n",
              "      <td>10005</td>\n",
              "      <td>MARSHALL MEDICAL CENTER SOUTH</td>\n",
              "      <td>2505 U S HIGHWAY 431 NORTH</td>\n",
              "      <td>BOAZ</td>\n",
              "      <td>AL</td>\n",
              "      <td>35957</td>\n",
              "      <td>MARSHALL</td>\n",
              "      <td>2565938310</td>\n",
              "      <td>CLABSI: Predicted Cases</td>\n",
              "      <td>HAI_1_ELIGCASES</td>\n",
              "      <td>No Different than National Benchmark</td>\n",
              "      <td>2.034</td>\n",
              "      <td>NaN</td>\n",
              "      <td>01/01/2015</td>\n",
              "      <td>06/30/2015</td>\n",
              "      <td>2505 U S HIGHWAY 431 NORTH\\nBOAZ, AL 35957\\n</td>\n",
              "    </tr>\n",
              "    <tr>\n",
              "      <th>4</th>\n",
              "      <td>10005</td>\n",
              "      <td>MARSHALL MEDICAL CENTER SOUTH</td>\n",
              "      <td>2505 U S HIGHWAY 431 NORTH</td>\n",
              "      <td>BOAZ</td>\n",
              "      <td>AL</td>\n",
              "      <td>35957</td>\n",
              "      <td>MARSHALL</td>\n",
              "      <td>2565938310</td>\n",
              "      <td>CLABSI: Observed Cases</td>\n",
              "      <td>HAI_1_NUMERATOR</td>\n",
              "      <td>No Different than National Benchmark</td>\n",
              "      <td>2</td>\n",
              "      <td>NaN</td>\n",
              "      <td>01/01/2015</td>\n",
              "      <td>06/30/2015</td>\n",
              "      <td>2505 U S HIGHWAY 431 NORTH\\nBOAZ, AL 35957\\n</td>\n",
              "    </tr>\n",
              "  </tbody>\n",
              "</table>\n",
              "</div>\n",
              "    <div class=\"colab-df-buttons\">\n",
              "\n",
              "  <div class=\"colab-df-container\">\n",
              "    <button class=\"colab-df-convert\" onclick=\"convertToInteractive('df-a1fdb1f0-03ec-47c0-a75f-fedfa2fa7088')\"\n",
              "            title=\"Convert this dataframe to an interactive table.\"\n",
              "            style=\"display:none;\">\n",
              "\n",
              "  <svg xmlns=\"http://www.w3.org/2000/svg\" height=\"24px\" viewBox=\"0 -960 960 960\">\n",
              "    <path d=\"M120-120v-720h720v720H120Zm60-500h600v-160H180v160Zm220 220h160v-160H400v160Zm0 220h160v-160H400v160ZM180-400h160v-160H180v160Zm440 0h160v-160H620v160ZM180-180h160v-160H180v160Zm440 0h160v-160H620v160Z\"/>\n",
              "  </svg>\n",
              "    </button>\n",
              "\n",
              "  <style>\n",
              "    .colab-df-container {\n",
              "      display:flex;\n",
              "      gap: 12px;\n",
              "    }\n",
              "\n",
              "    .colab-df-convert {\n",
              "      background-color: #E8F0FE;\n",
              "      border: none;\n",
              "      border-radius: 50%;\n",
              "      cursor: pointer;\n",
              "      display: none;\n",
              "      fill: #1967D2;\n",
              "      height: 32px;\n",
              "      padding: 0 0 0 0;\n",
              "      width: 32px;\n",
              "    }\n",
              "\n",
              "    .colab-df-convert:hover {\n",
              "      background-color: #E2EBFA;\n",
              "      box-shadow: 0px 1px 2px rgba(60, 64, 67, 0.3), 0px 1px 3px 1px rgba(60, 64, 67, 0.15);\n",
              "      fill: #174EA6;\n",
              "    }\n",
              "\n",
              "    .colab-df-buttons div {\n",
              "      margin-bottom: 4px;\n",
              "    }\n",
              "\n",
              "    [theme=dark] .colab-df-convert {\n",
              "      background-color: #3B4455;\n",
              "      fill: #D2E3FC;\n",
              "    }\n",
              "\n",
              "    [theme=dark] .colab-df-convert:hover {\n",
              "      background-color: #434B5C;\n",
              "      box-shadow: 0px 1px 3px 1px rgba(0, 0, 0, 0.15);\n",
              "      filter: drop-shadow(0px 1px 2px rgba(0, 0, 0, 0.3));\n",
              "      fill: #FFFFFF;\n",
              "    }\n",
              "  </style>\n",
              "\n",
              "    <script>\n",
              "      const buttonEl =\n",
              "        document.querySelector('#df-a1fdb1f0-03ec-47c0-a75f-fedfa2fa7088 button.colab-df-convert');\n",
              "      buttonEl.style.display =\n",
              "        google.colab.kernel.accessAllowed ? 'block' : 'none';\n",
              "\n",
              "      async function convertToInteractive(key) {\n",
              "        const element = document.querySelector('#df-a1fdb1f0-03ec-47c0-a75f-fedfa2fa7088');\n",
              "        const dataTable =\n",
              "          await google.colab.kernel.invokeFunction('convertToInteractive',\n",
              "                                                    [key], {});\n",
              "        if (!dataTable) return;\n",
              "\n",
              "        const docLinkHtml = 'Like what you see? Visit the ' +\n",
              "          '<a target=\"_blank\" href=https://colab.research.google.com/notebooks/data_table.ipynb>data table notebook</a>'\n",
              "          + ' to learn more about interactive tables.';\n",
              "        element.innerHTML = '';\n",
              "        dataTable['output_type'] = 'display_data';\n",
              "        await google.colab.output.renderOutput(dataTable, element);\n",
              "        const docLink = document.createElement('div');\n",
              "        docLink.innerHTML = docLinkHtml;\n",
              "        element.appendChild(docLink);\n",
              "      }\n",
              "    </script>\n",
              "  </div>\n",
              "\n",
              "\n",
              "<div id=\"df-c25b3a1e-82cf-425e-9a42-0bba3a15a8d7\">\n",
              "  <button class=\"colab-df-quickchart\" onclick=\"quickchart('df-c25b3a1e-82cf-425e-9a42-0bba3a15a8d7')\"\n",
              "            title=\"Suggest charts\"\n",
              "            style=\"display:none;\">\n",
              "\n",
              "<svg xmlns=\"http://www.w3.org/2000/svg\" height=\"24px\"viewBox=\"0 0 24 24\"\n",
              "     width=\"24px\">\n",
              "    <g>\n",
              "        <path d=\"M19 3H5c-1.1 0-2 .9-2 2v14c0 1.1.9 2 2 2h14c1.1 0 2-.9 2-2V5c0-1.1-.9-2-2-2zM9 17H7v-7h2v7zm4 0h-2V7h2v10zm4 0h-2v-4h2v4z\"/>\n",
              "    </g>\n",
              "</svg>\n",
              "  </button>\n",
              "\n",
              "<style>\n",
              "  .colab-df-quickchart {\n",
              "      --bg-color: #E8F0FE;\n",
              "      --fill-color: #1967D2;\n",
              "      --hover-bg-color: #E2EBFA;\n",
              "      --hover-fill-color: #174EA6;\n",
              "      --disabled-fill-color: #AAA;\n",
              "      --disabled-bg-color: #DDD;\n",
              "  }\n",
              "\n",
              "  [theme=dark] .colab-df-quickchart {\n",
              "      --bg-color: #3B4455;\n",
              "      --fill-color: #D2E3FC;\n",
              "      --hover-bg-color: #434B5C;\n",
              "      --hover-fill-color: #FFFFFF;\n",
              "      --disabled-bg-color: #3B4455;\n",
              "      --disabled-fill-color: #666;\n",
              "  }\n",
              "\n",
              "  .colab-df-quickchart {\n",
              "    background-color: var(--bg-color);\n",
              "    border: none;\n",
              "    border-radius: 50%;\n",
              "    cursor: pointer;\n",
              "    display: none;\n",
              "    fill: var(--fill-color);\n",
              "    height: 32px;\n",
              "    padding: 0;\n",
              "    width: 32px;\n",
              "  }\n",
              "\n",
              "  .colab-df-quickchart:hover {\n",
              "    background-color: var(--hover-bg-color);\n",
              "    box-shadow: 0 1px 2px rgba(60, 64, 67, 0.3), 0 1px 3px 1px rgba(60, 64, 67, 0.15);\n",
              "    fill: var(--button-hover-fill-color);\n",
              "  }\n",
              "\n",
              "  .colab-df-quickchart-complete:disabled,\n",
              "  .colab-df-quickchart-complete:disabled:hover {\n",
              "    background-color: var(--disabled-bg-color);\n",
              "    fill: var(--disabled-fill-color);\n",
              "    box-shadow: none;\n",
              "  }\n",
              "\n",
              "  .colab-df-spinner {\n",
              "    border: 2px solid var(--fill-color);\n",
              "    border-color: transparent;\n",
              "    border-bottom-color: var(--fill-color);\n",
              "    animation:\n",
              "      spin 1s steps(1) infinite;\n",
              "  }\n",
              "\n",
              "  @keyframes spin {\n",
              "    0% {\n",
              "      border-color: transparent;\n",
              "      border-bottom-color: var(--fill-color);\n",
              "      border-left-color: var(--fill-color);\n",
              "    }\n",
              "    20% {\n",
              "      border-color: transparent;\n",
              "      border-left-color: var(--fill-color);\n",
              "      border-top-color: var(--fill-color);\n",
              "    }\n",
              "    30% {\n",
              "      border-color: transparent;\n",
              "      border-left-color: var(--fill-color);\n",
              "      border-top-color: var(--fill-color);\n",
              "      border-right-color: var(--fill-color);\n",
              "    }\n",
              "    40% {\n",
              "      border-color: transparent;\n",
              "      border-right-color: var(--fill-color);\n",
              "      border-top-color: var(--fill-color);\n",
              "    }\n",
              "    60% {\n",
              "      border-color: transparent;\n",
              "      border-right-color: var(--fill-color);\n",
              "    }\n",
              "    80% {\n",
              "      border-color: transparent;\n",
              "      border-right-color: var(--fill-color);\n",
              "      border-bottom-color: var(--fill-color);\n",
              "    }\n",
              "    90% {\n",
              "      border-color: transparent;\n",
              "      border-bottom-color: var(--fill-color);\n",
              "    }\n",
              "  }\n",
              "</style>\n",
              "\n",
              "  <script>\n",
              "    async function quickchart(key) {\n",
              "      const quickchartButtonEl =\n",
              "        document.querySelector('#' + key + ' button');\n",
              "      quickchartButtonEl.disabled = true;  // To prevent multiple clicks.\n",
              "      quickchartButtonEl.classList.add('colab-df-spinner');\n",
              "      try {\n",
              "        const charts = await google.colab.kernel.invokeFunction(\n",
              "            'suggestCharts', [key], {});\n",
              "      } catch (error) {\n",
              "        console.error('Error during call to suggestCharts:', error);\n",
              "      }\n",
              "      quickchartButtonEl.classList.remove('colab-df-spinner');\n",
              "      quickchartButtonEl.classList.add('colab-df-quickchart-complete');\n",
              "    }\n",
              "    (() => {\n",
              "      let quickchartButtonEl =\n",
              "        document.querySelector('#df-c25b3a1e-82cf-425e-9a42-0bba3a15a8d7 button');\n",
              "      quickchartButtonEl.style.display =\n",
              "        google.colab.kernel.accessAllowed ? 'block' : 'none';\n",
              "    })();\n",
              "  </script>\n",
              "</div>\n",
              "\n",
              "    </div>\n",
              "  </div>\n"
            ],
            "application/vnd.google.colaboratory.intrinsic+json": {
              "type": "dataframe",
              "variable_name": "df"
            }
          },
          "metadata": {},
          "execution_count": 28
        }
      ]
    },
    {
      "cell_type": "markdown",
      "source": [
        "Data Cleaning - Handling Missing Values"
      ],
      "metadata": {
        "id": "9WFPXM4NVrO0"
      }
    },
    {
      "cell_type": "code",
      "source": [
        "# Fill missing values in 'County Name' and 'Footnote' columns\n",
        "df['County Name'].fillna('Unknown', inplace=True)\n",
        "df['Footnote'].fillna('N/A', inplace=True)\n",
        "\n",
        "# Check for any remaining missing values\n",
        "missing_values = df.isnull().sum()\n",
        "\n",
        "# Display columns with missing values after filling\n",
        "print(\"Missing values after cleaning:\")\n",
        "print(missing_values[missing_values > 0])"
      ],
      "metadata": {
        "colab": {
          "base_uri": "https://localhost:8080/"
        },
        "id": "_6j6jnrPVakP",
        "outputId": "21b32a1e-25d5-4cd9-f1a3-dab65fa577cf"
      },
      "execution_count": null,
      "outputs": [
        {
          "output_type": "stream",
          "name": "stderr",
          "text": [
            "<ipython-input-29-18e461ef163f>:2: FutureWarning: A value is trying to be set on a copy of a DataFrame or Series through chained assignment using an inplace method.\n",
            "The behavior will change in pandas 3.0. This inplace method will never work because the intermediate object on which we are setting values always behaves as a copy.\n",
            "\n",
            "For example, when doing 'df[col].method(value, inplace=True)', try using 'df.method({col: value}, inplace=True)' or df[col] = df[col].method(value) instead, to perform the operation inplace on the original object.\n",
            "\n",
            "\n",
            "  df['County Name'].fillna('Unknown', inplace=True)\n",
            "<ipython-input-29-18e461ef163f>:3: FutureWarning: A value is trying to be set on a copy of a DataFrame or Series through chained assignment using an inplace method.\n",
            "The behavior will change in pandas 3.0. This inplace method will never work because the intermediate object on which we are setting values always behaves as a copy.\n",
            "\n",
            "For example, when doing 'df[col].method(value, inplace=True)', try using 'df.method({col: value}, inplace=True)' or df[col] = df[col].method(value) instead, to perform the operation inplace on the original object.\n",
            "\n",
            "\n",
            "  df['Footnote'].fillna('N/A', inplace=True)\n"
          ]
        },
        {
          "output_type": "stream",
          "name": "stdout",
          "text": [
            "Missing values after cleaning:\n",
            "Series([], dtype: int64)\n"
          ]
        }
      ]
    },
    {
      "cell_type": "markdown",
      "source": [
        "Upload the Secondary DataSet to colab"
      ],
      "metadata": {
        "id": "kjK9o9CSc3gB"
      }
    },
    {
      "cell_type": "code",
      "source": [
        "from google.colab import files\n",
        "\n",
        "# Upload a file from your local system\n",
        "uploaded = files.upload()\n",
        "\n",
        "# Check the uploaded file\n",
        "import os\n",
        "for filename in uploaded.keys():\n",
        "    print(f\"Uploaded file: {filename}, Path: {os.path.abspath(filename)}\")"
      ],
      "metadata": {
        "colab": {
          "base_uri": "https://localhost:8080/",
          "height": 91
        },
        "id": "cVSJSfTre-D_",
        "outputId": "7db2ba04-9480-4174-8e3d-03d04b81ffcd"
      },
      "execution_count": null,
      "outputs": [
        {
          "output_type": "display_data",
          "data": {
            "text/plain": [
              "<IPython.core.display.HTML object>"
            ],
            "text/html": [
              "\n",
              "     <input type=\"file\" id=\"files-28d2d1e6-7b4f-4e7e-a8e3-b5102c56c65e\" name=\"files[]\" multiple disabled\n",
              "        style=\"border:none\" />\n",
              "     <output id=\"result-28d2d1e6-7b4f-4e7e-a8e3-b5102c56c65e\">\n",
              "      Upload widget is only available when the cell has been executed in the\n",
              "      current browser session. Please rerun this cell to enable.\n",
              "      </output>\n",
              "      <script>// Copyright 2017 Google LLC\n",
              "//\n",
              "// Licensed under the Apache License, Version 2.0 (the \"License\");\n",
              "// you may not use this file except in compliance with the License.\n",
              "// You may obtain a copy of the License at\n",
              "//\n",
              "//      http://www.apache.org/licenses/LICENSE-2.0\n",
              "//\n",
              "// Unless required by applicable law or agreed to in writing, software\n",
              "// distributed under the License is distributed on an \"AS IS\" BASIS,\n",
              "// WITHOUT WARRANTIES OR CONDITIONS OF ANY KIND, either express or implied.\n",
              "// See the License for the specific language governing permissions and\n",
              "// limitations under the License.\n",
              "\n",
              "/**\n",
              " * @fileoverview Helpers for google.colab Python module.\n",
              " */\n",
              "(function(scope) {\n",
              "function span(text, styleAttributes = {}) {\n",
              "  const element = document.createElement('span');\n",
              "  element.textContent = text;\n",
              "  for (const key of Object.keys(styleAttributes)) {\n",
              "    element.style[key] = styleAttributes[key];\n",
              "  }\n",
              "  return element;\n",
              "}\n",
              "\n",
              "// Max number of bytes which will be uploaded at a time.\n",
              "const MAX_PAYLOAD_SIZE = 100 * 1024;\n",
              "\n",
              "function _uploadFiles(inputId, outputId) {\n",
              "  const steps = uploadFilesStep(inputId, outputId);\n",
              "  const outputElement = document.getElementById(outputId);\n",
              "  // Cache steps on the outputElement to make it available for the next call\n",
              "  // to uploadFilesContinue from Python.\n",
              "  outputElement.steps = steps;\n",
              "\n",
              "  return _uploadFilesContinue(outputId);\n",
              "}\n",
              "\n",
              "// This is roughly an async generator (not supported in the browser yet),\n",
              "// where there are multiple asynchronous steps and the Python side is going\n",
              "// to poll for completion of each step.\n",
              "// This uses a Promise to block the python side on completion of each step,\n",
              "// then passes the result of the previous step as the input to the next step.\n",
              "function _uploadFilesContinue(outputId) {\n",
              "  const outputElement = document.getElementById(outputId);\n",
              "  const steps = outputElement.steps;\n",
              "\n",
              "  const next = steps.next(outputElement.lastPromiseValue);\n",
              "  return Promise.resolve(next.value.promise).then((value) => {\n",
              "    // Cache the last promise value to make it available to the next\n",
              "    // step of the generator.\n",
              "    outputElement.lastPromiseValue = value;\n",
              "    return next.value.response;\n",
              "  });\n",
              "}\n",
              "\n",
              "/**\n",
              " * Generator function which is called between each async step of the upload\n",
              " * process.\n",
              " * @param {string} inputId Element ID of the input file picker element.\n",
              " * @param {string} outputId Element ID of the output display.\n",
              " * @return {!Iterable<!Object>} Iterable of next steps.\n",
              " */\n",
              "function* uploadFilesStep(inputId, outputId) {\n",
              "  const inputElement = document.getElementById(inputId);\n",
              "  inputElement.disabled = false;\n",
              "\n",
              "  const outputElement = document.getElementById(outputId);\n",
              "  outputElement.innerHTML = '';\n",
              "\n",
              "  const pickedPromise = new Promise((resolve) => {\n",
              "    inputElement.addEventListener('change', (e) => {\n",
              "      resolve(e.target.files);\n",
              "    });\n",
              "  });\n",
              "\n",
              "  const cancel = document.createElement('button');\n",
              "  inputElement.parentElement.appendChild(cancel);\n",
              "  cancel.textContent = 'Cancel upload';\n",
              "  const cancelPromise = new Promise((resolve) => {\n",
              "    cancel.onclick = () => {\n",
              "      resolve(null);\n",
              "    };\n",
              "  });\n",
              "\n",
              "  // Wait for the user to pick the files.\n",
              "  const files = yield {\n",
              "    promise: Promise.race([pickedPromise, cancelPromise]),\n",
              "    response: {\n",
              "      action: 'starting',\n",
              "    }\n",
              "  };\n",
              "\n",
              "  cancel.remove();\n",
              "\n",
              "  // Disable the input element since further picks are not allowed.\n",
              "  inputElement.disabled = true;\n",
              "\n",
              "  if (!files) {\n",
              "    return {\n",
              "      response: {\n",
              "        action: 'complete',\n",
              "      }\n",
              "    };\n",
              "  }\n",
              "\n",
              "  for (const file of files) {\n",
              "    const li = document.createElement('li');\n",
              "    li.append(span(file.name, {fontWeight: 'bold'}));\n",
              "    li.append(span(\n",
              "        `(${file.type || 'n/a'}) - ${file.size} bytes, ` +\n",
              "        `last modified: ${\n",
              "            file.lastModifiedDate ? file.lastModifiedDate.toLocaleDateString() :\n",
              "                                    'n/a'} - `));\n",
              "    const percent = span('0% done');\n",
              "    li.appendChild(percent);\n",
              "\n",
              "    outputElement.appendChild(li);\n",
              "\n",
              "    const fileDataPromise = new Promise((resolve) => {\n",
              "      const reader = new FileReader();\n",
              "      reader.onload = (e) => {\n",
              "        resolve(e.target.result);\n",
              "      };\n",
              "      reader.readAsArrayBuffer(file);\n",
              "    });\n",
              "    // Wait for the data to be ready.\n",
              "    let fileData = yield {\n",
              "      promise: fileDataPromise,\n",
              "      response: {\n",
              "        action: 'continue',\n",
              "      }\n",
              "    };\n",
              "\n",
              "    // Use a chunked sending to avoid message size limits. See b/62115660.\n",
              "    let position = 0;\n",
              "    do {\n",
              "      const length = Math.min(fileData.byteLength - position, MAX_PAYLOAD_SIZE);\n",
              "      const chunk = new Uint8Array(fileData, position, length);\n",
              "      position += length;\n",
              "\n",
              "      const base64 = btoa(String.fromCharCode.apply(null, chunk));\n",
              "      yield {\n",
              "        response: {\n",
              "          action: 'append',\n",
              "          file: file.name,\n",
              "          data: base64,\n",
              "        },\n",
              "      };\n",
              "\n",
              "      let percentDone = fileData.byteLength === 0 ?\n",
              "          100 :\n",
              "          Math.round((position / fileData.byteLength) * 100);\n",
              "      percent.textContent = `${percentDone}% done`;\n",
              "\n",
              "    } while (position < fileData.byteLength);\n",
              "  }\n",
              "\n",
              "  // All done.\n",
              "  yield {\n",
              "    response: {\n",
              "      action: 'complete',\n",
              "    }\n",
              "  };\n",
              "}\n",
              "\n",
              "scope.google = scope.google || {};\n",
              "scope.google.colab = scope.google.colab || {};\n",
              "scope.google.colab._files = {\n",
              "  _uploadFiles,\n",
              "  _uploadFilesContinue,\n",
              "};\n",
              "})(self);\n",
              "</script> "
            ]
          },
          "metadata": {}
        },
        {
          "output_type": "stream",
          "name": "stdout",
          "text": [
            "Saving StatewiseTestingDetails.csv to StatewiseTestingDetails.csv\n",
            "Uploaded file: StatewiseTestingDetails.csv, Path: /content/StatewiseTestingDetails.csv\n"
          ]
        }
      ]
    },
    {
      "cell_type": "code",
      "source": [
        "import pandas as pd\n",
        "\n",
        "# Load the uploaded dataset\n",
        "file_path = '/content/StatewiseTestingDetails.csv'\n",
        "statewise_df = pd.read_csv(file_path)\n",
        "\n",
        "# Display the first few rows to check the data\n",
        "statewise_df.head()"
      ],
      "metadata": {
        "colab": {
          "base_uri": "https://localhost:8080/",
          "height": 206
        },
        "id": "LDF0DIMegmPV",
        "outputId": "354b7f97-52d1-40ad-c7d0-3815d2622e5e"
      },
      "execution_count": null,
      "outputs": [
        {
          "output_type": "execute_result",
          "data": {
            "text/plain": [
              "         Date                        State  TotalSamples Negative  Positive\n",
              "0  2020-04-17  Andaman and Nicobar Islands        1403.0     1210      12.0\n",
              "1  2020-04-24  Andaman and Nicobar Islands        2679.0      NaN      27.0\n",
              "2  2020-04-27  Andaman and Nicobar Islands        2848.0      NaN      33.0\n",
              "3  2020-05-01  Andaman and Nicobar Islands        3754.0      NaN      33.0\n",
              "4  2020-05-16  Andaman and Nicobar Islands        6677.0      NaN      33.0"
            ],
            "text/html": [
              "\n",
              "  <div id=\"df-0bee59df-37b4-4e9f-b029-34730ab83288\" class=\"colab-df-container\">\n",
              "    <div>\n",
              "<style scoped>\n",
              "    .dataframe tbody tr th:only-of-type {\n",
              "        vertical-align: middle;\n",
              "    }\n",
              "\n",
              "    .dataframe tbody tr th {\n",
              "        vertical-align: top;\n",
              "    }\n",
              "\n",
              "    .dataframe thead th {\n",
              "        text-align: right;\n",
              "    }\n",
              "</style>\n",
              "<table border=\"1\" class=\"dataframe\">\n",
              "  <thead>\n",
              "    <tr style=\"text-align: right;\">\n",
              "      <th></th>\n",
              "      <th>Date</th>\n",
              "      <th>State</th>\n",
              "      <th>TotalSamples</th>\n",
              "      <th>Negative</th>\n",
              "      <th>Positive</th>\n",
              "    </tr>\n",
              "  </thead>\n",
              "  <tbody>\n",
              "    <tr>\n",
              "      <th>0</th>\n",
              "      <td>2020-04-17</td>\n",
              "      <td>Andaman and Nicobar Islands</td>\n",
              "      <td>1403.0</td>\n",
              "      <td>1210</td>\n",
              "      <td>12.0</td>\n",
              "    </tr>\n",
              "    <tr>\n",
              "      <th>1</th>\n",
              "      <td>2020-04-24</td>\n",
              "      <td>Andaman and Nicobar Islands</td>\n",
              "      <td>2679.0</td>\n",
              "      <td>NaN</td>\n",
              "      <td>27.0</td>\n",
              "    </tr>\n",
              "    <tr>\n",
              "      <th>2</th>\n",
              "      <td>2020-04-27</td>\n",
              "      <td>Andaman and Nicobar Islands</td>\n",
              "      <td>2848.0</td>\n",
              "      <td>NaN</td>\n",
              "      <td>33.0</td>\n",
              "    </tr>\n",
              "    <tr>\n",
              "      <th>3</th>\n",
              "      <td>2020-05-01</td>\n",
              "      <td>Andaman and Nicobar Islands</td>\n",
              "      <td>3754.0</td>\n",
              "      <td>NaN</td>\n",
              "      <td>33.0</td>\n",
              "    </tr>\n",
              "    <tr>\n",
              "      <th>4</th>\n",
              "      <td>2020-05-16</td>\n",
              "      <td>Andaman and Nicobar Islands</td>\n",
              "      <td>6677.0</td>\n",
              "      <td>NaN</td>\n",
              "      <td>33.0</td>\n",
              "    </tr>\n",
              "  </tbody>\n",
              "</table>\n",
              "</div>\n",
              "    <div class=\"colab-df-buttons\">\n",
              "\n",
              "  <div class=\"colab-df-container\">\n",
              "    <button class=\"colab-df-convert\" onclick=\"convertToInteractive('df-0bee59df-37b4-4e9f-b029-34730ab83288')\"\n",
              "            title=\"Convert this dataframe to an interactive table.\"\n",
              "            style=\"display:none;\">\n",
              "\n",
              "  <svg xmlns=\"http://www.w3.org/2000/svg\" height=\"24px\" viewBox=\"0 -960 960 960\">\n",
              "    <path d=\"M120-120v-720h720v720H120Zm60-500h600v-160H180v160Zm220 220h160v-160H400v160Zm0 220h160v-160H400v160ZM180-400h160v-160H180v160Zm440 0h160v-160H620v160ZM180-180h160v-160H180v160Zm440 0h160v-160H620v160Z\"/>\n",
              "  </svg>\n",
              "    </button>\n",
              "\n",
              "  <style>\n",
              "    .colab-df-container {\n",
              "      display:flex;\n",
              "      gap: 12px;\n",
              "    }\n",
              "\n",
              "    .colab-df-convert {\n",
              "      background-color: #E8F0FE;\n",
              "      border: none;\n",
              "      border-radius: 50%;\n",
              "      cursor: pointer;\n",
              "      display: none;\n",
              "      fill: #1967D2;\n",
              "      height: 32px;\n",
              "      padding: 0 0 0 0;\n",
              "      width: 32px;\n",
              "    }\n",
              "\n",
              "    .colab-df-convert:hover {\n",
              "      background-color: #E2EBFA;\n",
              "      box-shadow: 0px 1px 2px rgba(60, 64, 67, 0.3), 0px 1px 3px 1px rgba(60, 64, 67, 0.15);\n",
              "      fill: #174EA6;\n",
              "    }\n",
              "\n",
              "    .colab-df-buttons div {\n",
              "      margin-bottom: 4px;\n",
              "    }\n",
              "\n",
              "    [theme=dark] .colab-df-convert {\n",
              "      background-color: #3B4455;\n",
              "      fill: #D2E3FC;\n",
              "    }\n",
              "\n",
              "    [theme=dark] .colab-df-convert:hover {\n",
              "      background-color: #434B5C;\n",
              "      box-shadow: 0px 1px 3px 1px rgba(0, 0, 0, 0.15);\n",
              "      filter: drop-shadow(0px 1px 2px rgba(0, 0, 0, 0.3));\n",
              "      fill: #FFFFFF;\n",
              "    }\n",
              "  </style>\n",
              "\n",
              "    <script>\n",
              "      const buttonEl =\n",
              "        document.querySelector('#df-0bee59df-37b4-4e9f-b029-34730ab83288 button.colab-df-convert');\n",
              "      buttonEl.style.display =\n",
              "        google.colab.kernel.accessAllowed ? 'block' : 'none';\n",
              "\n",
              "      async function convertToInteractive(key) {\n",
              "        const element = document.querySelector('#df-0bee59df-37b4-4e9f-b029-34730ab83288');\n",
              "        const dataTable =\n",
              "          await google.colab.kernel.invokeFunction('convertToInteractive',\n",
              "                                                    [key], {});\n",
              "        if (!dataTable) return;\n",
              "\n",
              "        const docLinkHtml = 'Like what you see? Visit the ' +\n",
              "          '<a target=\"_blank\" href=https://colab.research.google.com/notebooks/data_table.ipynb>data table notebook</a>'\n",
              "          + ' to learn more about interactive tables.';\n",
              "        element.innerHTML = '';\n",
              "        dataTable['output_type'] = 'display_data';\n",
              "        await google.colab.output.renderOutput(dataTable, element);\n",
              "        const docLink = document.createElement('div');\n",
              "        docLink.innerHTML = docLinkHtml;\n",
              "        element.appendChild(docLink);\n",
              "      }\n",
              "    </script>\n",
              "  </div>\n",
              "\n",
              "\n",
              "<div id=\"df-fd0610ef-aa32-48f3-90ce-5f11ef09ad79\">\n",
              "  <button class=\"colab-df-quickchart\" onclick=\"quickchart('df-fd0610ef-aa32-48f3-90ce-5f11ef09ad79')\"\n",
              "            title=\"Suggest charts\"\n",
              "            style=\"display:none;\">\n",
              "\n",
              "<svg xmlns=\"http://www.w3.org/2000/svg\" height=\"24px\"viewBox=\"0 0 24 24\"\n",
              "     width=\"24px\">\n",
              "    <g>\n",
              "        <path d=\"M19 3H5c-1.1 0-2 .9-2 2v14c0 1.1.9 2 2 2h14c1.1 0 2-.9 2-2V5c0-1.1-.9-2-2-2zM9 17H7v-7h2v7zm4 0h-2V7h2v10zm4 0h-2v-4h2v4z\"/>\n",
              "    </g>\n",
              "</svg>\n",
              "  </button>\n",
              "\n",
              "<style>\n",
              "  .colab-df-quickchart {\n",
              "      --bg-color: #E8F0FE;\n",
              "      --fill-color: #1967D2;\n",
              "      --hover-bg-color: #E2EBFA;\n",
              "      --hover-fill-color: #174EA6;\n",
              "      --disabled-fill-color: #AAA;\n",
              "      --disabled-bg-color: #DDD;\n",
              "  }\n",
              "\n",
              "  [theme=dark] .colab-df-quickchart {\n",
              "      --bg-color: #3B4455;\n",
              "      --fill-color: #D2E3FC;\n",
              "      --hover-bg-color: #434B5C;\n",
              "      --hover-fill-color: #FFFFFF;\n",
              "      --disabled-bg-color: #3B4455;\n",
              "      --disabled-fill-color: #666;\n",
              "  }\n",
              "\n",
              "  .colab-df-quickchart {\n",
              "    background-color: var(--bg-color);\n",
              "    border: none;\n",
              "    border-radius: 50%;\n",
              "    cursor: pointer;\n",
              "    display: none;\n",
              "    fill: var(--fill-color);\n",
              "    height: 32px;\n",
              "    padding: 0;\n",
              "    width: 32px;\n",
              "  }\n",
              "\n",
              "  .colab-df-quickchart:hover {\n",
              "    background-color: var(--hover-bg-color);\n",
              "    box-shadow: 0 1px 2px rgba(60, 64, 67, 0.3), 0 1px 3px 1px rgba(60, 64, 67, 0.15);\n",
              "    fill: var(--button-hover-fill-color);\n",
              "  }\n",
              "\n",
              "  .colab-df-quickchart-complete:disabled,\n",
              "  .colab-df-quickchart-complete:disabled:hover {\n",
              "    background-color: var(--disabled-bg-color);\n",
              "    fill: var(--disabled-fill-color);\n",
              "    box-shadow: none;\n",
              "  }\n",
              "\n",
              "  .colab-df-spinner {\n",
              "    border: 2px solid var(--fill-color);\n",
              "    border-color: transparent;\n",
              "    border-bottom-color: var(--fill-color);\n",
              "    animation:\n",
              "      spin 1s steps(1) infinite;\n",
              "  }\n",
              "\n",
              "  @keyframes spin {\n",
              "    0% {\n",
              "      border-color: transparent;\n",
              "      border-bottom-color: var(--fill-color);\n",
              "      border-left-color: var(--fill-color);\n",
              "    }\n",
              "    20% {\n",
              "      border-color: transparent;\n",
              "      border-left-color: var(--fill-color);\n",
              "      border-top-color: var(--fill-color);\n",
              "    }\n",
              "    30% {\n",
              "      border-color: transparent;\n",
              "      border-left-color: var(--fill-color);\n",
              "      border-top-color: var(--fill-color);\n",
              "      border-right-color: var(--fill-color);\n",
              "    }\n",
              "    40% {\n",
              "      border-color: transparent;\n",
              "      border-right-color: var(--fill-color);\n",
              "      border-top-color: var(--fill-color);\n",
              "    }\n",
              "    60% {\n",
              "      border-color: transparent;\n",
              "      border-right-color: var(--fill-color);\n",
              "    }\n",
              "    80% {\n",
              "      border-color: transparent;\n",
              "      border-right-color: var(--fill-color);\n",
              "      border-bottom-color: var(--fill-color);\n",
              "    }\n",
              "    90% {\n",
              "      border-color: transparent;\n",
              "      border-bottom-color: var(--fill-color);\n",
              "    }\n",
              "  }\n",
              "</style>\n",
              "\n",
              "  <script>\n",
              "    async function quickchart(key) {\n",
              "      const quickchartButtonEl =\n",
              "        document.querySelector('#' + key + ' button');\n",
              "      quickchartButtonEl.disabled = true;  // To prevent multiple clicks.\n",
              "      quickchartButtonEl.classList.add('colab-df-spinner');\n",
              "      try {\n",
              "        const charts = await google.colab.kernel.invokeFunction(\n",
              "            'suggestCharts', [key], {});\n",
              "      } catch (error) {\n",
              "        console.error('Error during call to suggestCharts:', error);\n",
              "      }\n",
              "      quickchartButtonEl.classList.remove('colab-df-spinner');\n",
              "      quickchartButtonEl.classList.add('colab-df-quickchart-complete');\n",
              "    }\n",
              "    (() => {\n",
              "      let quickchartButtonEl =\n",
              "        document.querySelector('#df-fd0610ef-aa32-48f3-90ce-5f11ef09ad79 button');\n",
              "      quickchartButtonEl.style.display =\n",
              "        google.colab.kernel.accessAllowed ? 'block' : 'none';\n",
              "    })();\n",
              "  </script>\n",
              "</div>\n",
              "\n",
              "    </div>\n",
              "  </div>\n"
            ],
            "application/vnd.google.colaboratory.intrinsic+json": {
              "type": "dataframe",
              "variable_name": "statewise_df",
              "summary": "{\n  \"name\": \"statewise_df\",\n  \"rows\": 16336,\n  \"fields\": [\n    {\n      \"column\": \"Date\",\n      \"properties\": {\n        \"dtype\": \"object\",\n        \"num_unique_values\": 497,\n        \"samples\": [\n          \"2020-05-13\",\n          \"2020-07-26\",\n          \"2020-12-31\"\n        ],\n        \"semantic_type\": \"\",\n        \"description\": \"\"\n      }\n    },\n    {\n      \"column\": \"State\",\n      \"properties\": {\n        \"dtype\": \"category\",\n        \"num_unique_values\": 36,\n        \"samples\": [\n          \"West Bengal\",\n          \"Jammu and Kashmir\",\n          \"Puducherry\"\n        ],\n        \"semantic_type\": \"\",\n        \"description\": \"\"\n      }\n    },\n    {\n      \"column\": \"TotalSamples\",\n      \"properties\": {\n        \"dtype\": \"number\",\n        \"std\": 8780337.764526766,\n        \"min\": 58.0,\n        \"max\": 67897856.0,\n        \"num_unique_values\": 16182,\n        \"samples\": [\n          208472.0,\n          115583.0,\n          251236.0\n        ],\n        \"semantic_type\": \"\",\n        \"description\": \"\"\n      }\n    },\n    {\n      \"column\": \"Negative\",\n      \"properties\": {\n        \"dtype\": \"category\",\n        \"num_unique_values\": 6898,\n        \"samples\": [\n          \"5758662\",\n          \"574092\",\n          \"83021\"\n        ],\n        \"semantic_type\": \"\",\n        \"description\": \"\"\n      }\n    },\n    {\n      \"column\": \"Positive\",\n      \"properties\": {\n        \"dtype\": \"number\",\n        \"std\": 167310.77901611698,\n        \"min\": 0.0,\n        \"max\": 1638961.0,\n        \"num_unique_values\": 4328,\n        \"samples\": [\n          96298.0,\n          2140.0,\n          56608.0\n        ],\n        \"semantic_type\": \"\",\n        \"description\": \"\"\n      }\n    }\n  ]\n}"
            }
          },
          "metadata": {},
          "execution_count": 52
        }
      ]
    },
    {
      "cell_type": "code",
      "source": [
        "# Ensure that the columns to merge on are in the same format (strip spaces, lower case)\n",
        "covid_df['location'] = covid_df['location'].str.strip().str.lower()\n",
        "statewise_df['State'] = statewise_df['State'].str.strip().str.lower()\n",
        "\n",
        "# Merge the datasets on 'location' (primary) and 'State' (secondary)\n",
        "merged_df = pd.merge(covid_df, statewise_df, left_on='location', right_on='State', how='inner')\n",
        "\n",
        "# Display the first few rows of the merged dataset\n",
        "print(\"\\nMerged DataFrame:\")\n",
        "print(merged_df.head())\n",
        "\n",
        "# Show the shape of the merged dataset\n",
        "print(\"\\nShape of Merged DataFrame:\", merged_df.shape)"
      ],
      "metadata": {
        "colab": {
          "base_uri": "https://localhost:8080/"
        },
        "id": "ddwxhZ1Og5Js",
        "outputId": "148d6746-2980-48e1-ef2a-b9b1bb69abbf"
      },
      "execution_count": null,
      "outputs": [
        {
          "output_type": "stream",
          "name": "stdout",
          "text": [
            "\n",
            "Merged DataFrame:\n",
            "Empty DataFrame\n",
            "Columns: [iso_code, continent, location, date, total_cases, new_cases, new_cases_smoothed, total_deaths, new_deaths, new_deaths_smoothed, total_cases_per_million, new_cases_per_million, new_cases_smoothed_per_million, total_deaths_per_million, new_deaths_per_million, new_deaths_smoothed_per_million, reproduction_rate, icu_patients, icu_patients_per_million, hosp_patients, hosp_patients_per_million, weekly_icu_admissions, weekly_icu_admissions_per_million, weekly_hosp_admissions, weekly_hosp_admissions_per_million, total_tests, new_tests, total_tests_per_thousand, new_tests_per_thousand, new_tests_smoothed, new_tests_smoothed_per_thousand, positive_rate, tests_per_case, tests_units, total_vaccinations, people_vaccinated, people_fully_vaccinated, total_boosters, new_vaccinations, new_vaccinations_smoothed, total_vaccinations_per_hundred, people_vaccinated_per_hundred, people_fully_vaccinated_per_hundred, total_boosters_per_hundred, new_vaccinations_smoothed_per_million, new_people_vaccinated_smoothed, new_people_vaccinated_smoothed_per_hundred, stringency_index, population_density, median_age, aged_65_older, aged_70_older, gdp_per_capita, extreme_poverty, cardiovasc_death_rate, diabetes_prevalence, female_smokers, male_smokers, handwashing_facilities, hospital_beds_per_thousand, life_expectancy, human_development_index, population, excess_mortality_cumulative_absolute, excess_mortality_cumulative, excess_mortality, excess_mortality_cumulative_per_million, Date, State, TotalSamples, Negative, Positive]\n",
            "Index: []\n",
            "\n",
            "[0 rows x 72 columns]\n",
            "\n",
            "Shape of Merged DataFrame: (0, 72)\n"
          ]
        }
      ]
    },
    {
      "cell_type": "code",
      "source": [
        "# Check unique values from both columns (location and State)\n",
        "print(\"Unique values in location (primary dataset):\")\n",
        "print(covid_df['location'].unique()[:20])  # Show first 20 unique values\n",
        "\n",
        "print(\"\\nUnique values in State (secondary dataset):\")\n",
        "print(statewise_df['State'].unique()[:20])  # Show first 20 unique values"
      ],
      "metadata": {
        "colab": {
          "base_uri": "https://localhost:8080/"
        },
        "id": "Ybvhp3IAhBTg",
        "outputId": "3b5f9431-51a9-4faf-bddb-88f986af7025"
      },
      "execution_count": null,
      "outputs": [
        {
          "output_type": "stream",
          "name": "stdout",
          "text": [
            "Unique values in location (primary dataset):\n",
            "['afghanistan' 'africa' 'albania' 'algeria' 'american samoa' 'andorra'\n",
            " 'angola' 'anguilla' 'antigua and barbuda' 'argentina' 'armenia' 'aruba'\n",
            " 'asia' 'australia' 'austria' 'azerbaijan' 'bahamas' 'bahrain'\n",
            " 'bangladesh' 'barbados']\n",
            "\n",
            "Unique values in State (secondary dataset):\n",
            "['andaman and nicobar islands' 'andhra pradesh' 'arunachal pradesh'\n",
            " 'assam' 'bihar' 'chandigarh' 'chhattisgarh'\n",
            " 'dadra and nagar haveli and daman and diu' 'delhi' 'goa' 'gujarat'\n",
            " 'haryana' 'himachal pradesh' 'jammu and kashmir' 'jharkhand' 'karnataka'\n",
            " 'kerala' 'ladakh' 'lakshadweep' 'madhya pradesh']\n"
          ]
        }
      ]
    },
    {
      "cell_type": "code",
      "source": [
        "# Filter the primary dataset for India only\n",
        "india_covid_df = covid_df[covid_df['location'].str.lower() == 'india']\n",
        "\n",
        "# Display the first few rows of the filtered data\n",
        "print(\"Filtered India COVID Data:\")\n",
        "print(india_covid_df.head())\n",
        "print(f\"Shape of Filtered India Data: {india_covid_df.shape}\")"
      ],
      "metadata": {
        "colab": {
          "base_uri": "https://localhost:8080/"
        },
        "id": "Hpg2cz68hoOk",
        "outputId": "bdea4b9d-dcbe-410e-d71a-6387345844e1"
      },
      "execution_count": null,
      "outputs": [
        {
          "output_type": "stream",
          "name": "stdout",
          "text": [
            "Filtered India COVID Data:\n",
            "       iso_code continent location        date  total_cases  new_cases  \\\n",
            "173549      IND      Asia    india  2020-01-05          0.0        0.0   \n",
            "173550      IND      Asia    india  2020-01-06          0.0        0.0   \n",
            "173551      IND      Asia    india  2020-01-07          0.0        0.0   \n",
            "173552      IND      Asia    india  2020-01-08          0.0        0.0   \n",
            "173553      IND      Asia    india  2020-01-09          0.0        0.0   \n",
            "\n",
            "        new_cases_smoothed  total_deaths  new_deaths  new_deaths_smoothed  \\\n",
            "173549                 NaN           0.0         0.0                  NaN   \n",
            "173550                 NaN           0.0         0.0                  NaN   \n",
            "173551                 NaN           0.0         0.0                  NaN   \n",
            "173552                 NaN           0.0         0.0                  NaN   \n",
            "173553                 NaN           0.0         0.0                  NaN   \n",
            "\n",
            "        ...  male_smokers  handwashing_facilities  hospital_beds_per_thousand  \\\n",
            "173549  ...          20.6                   59.55                        0.53   \n",
            "173550  ...          20.6                   59.55                        0.53   \n",
            "173551  ...          20.6                   59.55                        0.53   \n",
            "173552  ...          20.6                   59.55                        0.53   \n",
            "173553  ...          20.6                   59.55                        0.53   \n",
            "\n",
            "        life_expectancy  human_development_index  population  \\\n",
            "173549            69.66                    0.645  1417173120   \n",
            "173550            69.66                    0.645  1417173120   \n",
            "173551            69.66                    0.645  1417173120   \n",
            "173552            69.66                    0.645  1417173120   \n",
            "173553            69.66                    0.645  1417173120   \n",
            "\n",
            "        excess_mortality_cumulative_absolute  excess_mortality_cumulative  \\\n",
            "173549                                   NaN                          NaN   \n",
            "173550                                   NaN                          NaN   \n",
            "173551                                   NaN                          NaN   \n",
            "173552                                   NaN                          NaN   \n",
            "173553                                   NaN                          NaN   \n",
            "\n",
            "        excess_mortality  excess_mortality_cumulative_per_million  \n",
            "173549               NaN                                      NaN  \n",
            "173550               NaN                                      NaN  \n",
            "173551               NaN                                      NaN  \n",
            "173552               NaN                                      NaN  \n",
            "173553               NaN                                      NaN  \n",
            "\n",
            "[5 rows x 67 columns]\n",
            "Shape of Filtered India Data: (1682, 67)\n"
          ]
        }
      ]
    },
    {
      "cell_type": "code",
      "source": [
        "# Filter statewise data for India states\n",
        "india_states_df = statewise_df[statewise_df['State'].isin([\n",
        "    'andaman and nicobar islands', 'andhra pradesh', 'arunachal pradesh', 'assam', 'bihar',\n",
        "    'chandigarh', 'chhattisgarh', 'dadra and nagar haveli and daman and diu', 'delhi', 'goa',\n",
        "    'gujarat', 'haryana', 'himachal pradesh', 'jammu and kashmir', 'jharkhand', 'karnataka',\n",
        "    'kerala', 'ladakh', 'lakshadweep', 'madhya pradesh'])]\n",
        "\n",
        "# Now attempt to merge on both 'date' and 'State' (india-specific)\n",
        "merged_df = pd.merge(india_covid_df, india_states_df, how='inner', left_on=['date'], right_on=['Date'])\n",
        "\n",
        "# Display the merged dataframe\n",
        "print(\"Merged DataFrame:\")\n",
        "print(merged_df.head())\n",
        "\n",
        "# Check the shape of the merged dataframe\n",
        "print(f\"Shape of Merged DataFrame: {merged_df.shape}\")"
      ],
      "metadata": {
        "colab": {
          "base_uri": "https://localhost:8080/"
        },
        "id": "dGUS_2XJiBVo",
        "outputId": "65a37712-9455-4741-b042-d61bcd9bd556"
      },
      "execution_count": null,
      "outputs": [
        {
          "output_type": "stream",
          "name": "stdout",
          "text": [
            "Merged DataFrame:\n",
            "  iso_code continent location        date  total_cases  new_cases  \\\n",
            "0      IND      Asia    india  2020-04-01        979.0        0.0   \n",
            "1      IND      Asia    india  2020-04-01        979.0        0.0   \n",
            "2      IND      Asia    india  2020-04-02        979.0        0.0   \n",
            "3      IND      Asia    india  2020-04-02        979.0        0.0   \n",
            "4      IND      Asia    india  2020-04-02        979.0        0.0   \n",
            "\n",
            "   new_cases_smoothed  total_deaths  new_deaths  new_deaths_smoothed  ...  \\\n",
            "0              88.429          25.0         0.0                2.571  ...   \n",
            "1              88.429          25.0         0.0                2.571  ...   \n",
            "2              88.429          25.0         0.0                2.571  ...   \n",
            "3              88.429          25.0         0.0                2.571  ...   \n",
            "4              88.429          25.0         0.0                2.571  ...   \n",
            "\n",
            "   population  excess_mortality_cumulative_absolute  \\\n",
            "0  1417173120                                   NaN   \n",
            "1  1417173120                                   NaN   \n",
            "2  1417173120                                   NaN   \n",
            "3  1417173120                                   NaN   \n",
            "4  1417173120                                   NaN   \n",
            "\n",
            "   excess_mortality_cumulative  excess_mortality  \\\n",
            "0                          NaN               NaN   \n",
            "1                          NaN               NaN   \n",
            "2                          NaN               NaN   \n",
            "3                          NaN               NaN   \n",
            "4                          NaN               NaN   \n",
            "\n",
            "   excess_mortality_cumulative_per_million        Date           State  \\\n",
            "0                                      NaN  2020-04-01           delhi   \n",
            "1                                      NaN  2020-04-01          kerala   \n",
            "2                                      NaN  2020-04-02  andhra pradesh   \n",
            "3                                      NaN  2020-04-02           assam   \n",
            "4                                      NaN  2020-04-02      chandigarh   \n",
            "\n",
            "   TotalSamples  Negative  Positive  \n",
            "0        2621.0       NaN       NaN  \n",
            "1        7965.0      7256     265.0  \n",
            "2        1800.0      1175     132.0  \n",
            "3         962.0       819      16.0  \n",
            "4         124.0        98      18.0  \n",
            "\n",
            "[5 rows x 72 columns]\n",
            "Shape of Merged DataFrame: (8888, 72)\n"
          ]
        }
      ]
    },
    {
      "cell_type": "markdown",
      "source": [
        "## DATA AGGREGATION AND PIVOTING\n",
        "\n",
        "Let's do the first round of Aggregation and Pivoting\n",
        "\n",
        "- Aggregation by State and Date:"
      ],
      "metadata": {
        "id": "anN4wp6CiwEL"
      }
    },
    {
      "cell_type": "code",
      "source": [
        "# Aggregating data by State and Date\n",
        "aggregated_df = merged_df.groupby(['State', 'Date']).agg({\n",
        "    'total_cases': 'sum',\n",
        "    'new_cases': 'sum',\n",
        "    'total_deaths': 'sum',\n",
        "    'new_deaths': 'sum',\n",
        "    'total_tests': 'sum',\n",
        "    'new_tests': 'sum',\n",
        "    'TotalSamples': 'sum',\n",
        "    'Negative': 'sum',\n",
        "    'Positive': 'sum',\n",
        "}).reset_index()\n",
        "\n",
        "# Displaying the first few rows of the aggregated data\n",
        "print(aggregated_df.head())"
      ],
      "metadata": {
        "colab": {
          "base_uri": "https://localhost:8080/"
        },
        "id": "FPTeafnKiJN5",
        "outputId": "2db14d48-c3aa-4e03-c886-51566a89ec96"
      },
      "execution_count": null,
      "outputs": [
        {
          "output_type": "stream",
          "name": "stdout",
          "text": [
            "                         State        Date  total_cases  new_cases  \\\n",
            "0  andaman and nicobar islands  2020-04-17       8356.0        0.0   \n",
            "1  andaman and nicobar islands  2020-04-24      15712.0        0.0   \n",
            "2  andaman and nicobar islands  2020-04-27      26496.0        0.0   \n",
            "3  andaman and nicobar islands  2020-05-01      26496.0        0.0   \n",
            "4  andaman and nicobar islands  2020-05-16      62939.0        0.0   \n",
            "\n",
            "   total_deaths  new_deaths  total_tests  new_tests  TotalSamples Negative  \\\n",
            "0         273.0         0.0     335123.0    32167.0        1403.0     1210   \n",
            "1         507.0         0.0     541789.0    41247.0        2679.0        0   \n",
            "2         824.0         0.0     665819.0    40510.0        2848.0        0   \n",
            "3         824.0         0.0     902654.0    72453.0        3754.0        0   \n",
            "4        2109.0         0.0    2134277.0    94325.0        6677.0        0   \n",
            "\n",
            "   Positive  \n",
            "0      12.0  \n",
            "1      27.0  \n",
            "2      33.0  \n",
            "3      33.0  \n",
            "4      33.0  \n"
          ]
        }
      ]
    },
    {
      "cell_type": "markdown",
      "source": [
        "- Pivoting the Aggregated Data:"
      ],
      "metadata": {
        "id": "zeOEe1q_i-Nl"
      }
    },
    {
      "cell_type": "code",
      "source": [
        "# Pivoting the data by State\n",
        "pivoted_df = aggregated_df.pivot_table(\n",
        "    index='Date',\n",
        "    columns='State',\n",
        "    values=['total_cases', 'new_cases', 'total_deaths', 'new_deaths', 'total_tests', 'Positive', 'Negative'],\n",
        "    aggfunc='sum'\n",
        ")\n",
        "\n",
        "# Displaying the first few rows of the pivoted data\n",
        "print(pivoted_df.head())"
      ],
      "metadata": {
        "colab": {
          "base_uri": "https://localhost:8080/"
        },
        "id": "oUhaMg85i7mB",
        "outputId": "047da3b1-7d35-430a-8606-1a2bf87d4758"
      },
      "execution_count": null,
      "outputs": [
        {
          "output_type": "stream",
          "name": "stdout",
          "text": [
            "                              Negative                                         \\\n",
            "State      andaman and nicobar islands andhra pradesh arunachal pradesh assam   \n",
            "Date                                                                            \n",
            "2020-04-01                         NaN            NaN               NaN   NaN   \n",
            "2020-04-02                         NaN           1175               NaN   819   \n",
            "2020-04-03                         NaN            NaN               NaN   NaN   \n",
            "2020-04-04                         NaN            NaN               NaN   NaN   \n",
            "2020-04-05                         NaN            NaN               NaN   NaN   \n",
            "\n",
            "                                          \\\n",
            "State      bihar chandigarh chhattisgarh   \n",
            "Date                                       \n",
            "2020-04-01   NaN        NaN          NaN   \n",
            "2020-04-02   NaN         98          921   \n",
            "2020-04-03   NaN        NaN          NaN   \n",
            "2020-04-04   NaN        NaN          NaN   \n",
            "2020-04-05  2299        NaN          NaN   \n",
            "\n",
            "                                                                ...  \\\n",
            "State      dadra and nagar haveli and daman and diu delhi  goa  ...   \n",
            "Date                                                            ...   \n",
            "2020-04-01                                      NaN     0  NaN  ...   \n",
            "2020-04-02                                      NaN   NaN  197  ...   \n",
            "2020-04-03                                      NaN   NaN  NaN  ...   \n",
            "2020-04-04                                      NaN   NaN  NaN  ...   \n",
            "2020-04-05                                      NaN   NaN  NaN  ...   \n",
            "\n",
            "           total_tests                                                        \\\n",
            "State          gujarat  haryana himachal pradesh jammu and kashmir jharkhand   \n",
            "Date                                                                           \n",
            "2020-04-01         NaN      NaN              NaN               NaN       NaN   \n",
            "2020-04-02         NaN      NaN              NaN               NaN       NaN   \n",
            "2020-04-03         NaN  69245.0              NaN               NaN       NaN   \n",
            "2020-04-04         NaN      NaN              NaN               NaN       NaN   \n",
            "2020-04-05         NaN      NaN              NaN           89534.0       NaN   \n",
            "\n",
            "                                                                 \n",
            "State      karnataka   kerala ladakh lakshadweep madhya pradesh  \n",
            "Date                                                             \n",
            "2020-04-01       NaN      0.0    NaN         NaN            NaN  \n",
            "2020-04-02       NaN  47951.0    NaN         NaN            NaN  \n",
            "2020-04-03   69245.0  69245.0    NaN         NaN            NaN  \n",
            "2020-04-04       NaN  79950.0    NaN         NaN            NaN  \n",
            "2020-04-05       NaN  89534.0    NaN         NaN        89534.0  \n",
            "\n",
            "[5 rows x 140 columns]\n"
          ]
        }
      ]
    },
    {
      "cell_type": "markdown",
      "source": [
        "Second Round of Data Aggregation and Pivoting\n",
        "\n",
        "For the second round, let's perform a different type of aggregation, such as weekly aggregation (grouping by week) to get a broader overview.\n",
        "\n",
        "- Aggregating by Week and State:"
      ],
      "metadata": {
        "id": "cI8VpZGnjDx9"
      }
    },
    {
      "cell_type": "code",
      "source": [
        "# Adding a new column for the week\n",
        "merged_df['week'] = pd.to_datetime(merged_df['Date']).dt.isocalendar().week\n",
        "\n",
        "# Aggregating data by Week and State\n",
        "weekly_aggregated_df = merged_df.groupby(['State', 'week']).agg({\n",
        "    'total_cases': 'sum',\n",
        "    'new_cases': 'sum',\n",
        "    'total_deaths': 'sum',\n",
        "    'new_deaths': 'sum',\n",
        "    'total_tests': 'sum',\n",
        "    'new_tests': 'sum',\n",
        "    'TotalSamples': 'sum',\n",
        "    'Negative': 'sum',\n",
        "    'Positive': 'sum',\n",
        "}).reset_index()\n",
        "\n",
        "# Displaying the first few rows of the weekly aggregated data\n",
        "print(weekly_aggregated_df.head())"
      ],
      "metadata": {
        "colab": {
          "base_uri": "https://localhost:8080/"
        },
        "id": "8DNuoKN2jAEk",
        "outputId": "a2c4ca8d-ecf3-4b95-95eb-19433311c7b7"
      },
      "execution_count": null,
      "outputs": [
        {
          "output_type": "stream",
          "name": "stdout",
          "text": [
            "                         State  week  total_cases  new_cases  total_deaths  \\\n",
            "0  andaman and nicobar islands     1   72394074.0   126319.0     1047609.0   \n",
            "1  andaman and nicobar islands     2   73259689.0   107701.0     1058268.0   \n",
            "2  andaman and nicobar islands     3   74002443.0    96548.0     1066983.0   \n",
            "3  andaman and nicobar islands     4   74673381.0    91650.0     1074308.0   \n",
            "4  andaman and nicobar islands     5   75303461.0    80180.0     1080640.0   \n",
            "\n",
            "   new_deaths   total_tests  new_tests  TotalSamples Negative  Positive  \n",
            "0      1564.0  1.248718e+09  6196839.0     1329122.0        0   34682.0  \n",
            "1      1275.0  1.289403e+09  5448246.0     1397708.0        0   34818.0  \n",
            "2      1065.0  1.325711e+09  5222003.0     1466381.0        0   34937.0  \n",
            "3       935.0  1.360859e+09  4821501.0     1531906.0        0   34958.0  \n",
            "4       722.0  1.394507e+09  4780006.0     1610161.0        0   34974.0  \n"
          ]
        }
      ]
    },
    {
      "cell_type": "markdown",
      "source": [
        "- Pivoting the Weekly Aggregated Data:"
      ],
      "metadata": {
        "id": "aFeZBO-BjKnL"
      }
    },
    {
      "cell_type": "code",
      "source": [
        "# Pivoting the weekly aggregated data by State\n",
        "weekly_pivoted_df = weekly_aggregated_df.pivot_table(\n",
        "    index='week',\n",
        "    columns='State',\n",
        "    values=['total_cases', 'new_cases', 'total_deaths', 'new_deaths', 'total_tests', 'Positive', 'Negative'],\n",
        "    aggfunc='sum'\n",
        ")\n",
        "\n",
        "# Displaying the first few rows of the weekly pivoted data\n",
        "print(weekly_pivoted_df.head())"
      ],
      "metadata": {
        "colab": {
          "base_uri": "https://localhost:8080/"
        },
        "id": "a_Q1Woo8jHrK",
        "outputId": "9ad655b1-0d02-4c9d-d16d-5519c5d69f60"
      },
      "execution_count": null,
      "outputs": [
        {
          "output_type": "stream",
          "name": "stdout",
          "text": [
            "                         Negative  \\\n",
            "State andaman and nicobar islands   \n",
            "week                                \n",
            "1                               0   \n",
            "2                               0   \n",
            "3                               0   \n",
            "4                               0   \n",
            "5                               0   \n",
            "\n",
            "                                                         \\\n",
            "State                                    andhra pradesh   \n",
            "week                                                      \n",
            "1              1111928411170327112212451128036012224202   \n",
            "2                      11470570115113591159732711628929   \n",
            "3      117570681180374711853091119012671194487911989103   \n",
            "4              1201676412054915120886121212468412167368   \n",
            "5      122718941230109912326449123546241238840312423192   \n",
            "\n",
            "                                                               \\\n",
            "State                           arunachal pradesh assam bihar   \n",
            "week                                                            \n",
            "1      350884351921352513352989353587353948354499     0     0   \n",
            "2            354911355404356166356976357963358130     0     0   \n",
            "3            358529358848359210359530359982360519     0     0   \n",
            "4                              360903361080362097     0     0   \n",
            "5      363583364134364700365362366020366614366813     0     0   \n",
            "\n",
            "                                                                \\\n",
            "State                                  chandigarh chhattisgarh   \n",
            "week                                                             \n",
            "1      163994165457166855168231169415170482171141            0   \n",
            "2            173583174856175903177003178093178766            0   \n",
            "3      179867180897181710182724184208185419186447            0   \n",
            "4                  189699191118192278193401194378            0   \n",
            "5                        195710197019198343203192            0   \n",
            "\n",
            "                                                          ...   total_tests  \\\n",
            "State dadra and nagar haveli and daman and diu delhi goa  ...       gujarat   \n",
            "week                                                      ...                 \n",
            "1                                          NaN     0   0  ...  1.248718e+09   \n",
            "2                                          NaN     0   0  ...  1.289403e+09   \n",
            "3                                          NaN     0   0  ...  1.133944e+09   \n",
            "4                                          NaN     0   0  ...  1.164270e+09   \n",
            "5                                          NaN     0   0  ...  1.394507e+09   \n",
            "\n",
            "                                                                      \\\n",
            "State       haryana himachal pradesh jammu and kashmir     jharkhand   \n",
            "week                                                                   \n",
            "1      1.248718e+09     1.248718e+09      1.248718e+09  1.248718e+09   \n",
            "2      1.289403e+09     1.289403e+09      1.289403e+09  1.289403e+09   \n",
            "3      1.325711e+09     1.325711e+09      1.325711e+09  1.325711e+09   \n",
            "4      1.360859e+09     1.360859e+09      1.360859e+09  1.167796e+09   \n",
            "5      1.394507e+09     1.394507e+09      1.394507e+09  1.394507e+09   \n",
            "\n",
            "                                                                              \n",
            "State     karnataka        kerala        ladakh   lakshadweep madhya pradesh  \n",
            "week                                                                          \n",
            "1      1.248718e+09  1.248718e+09  1.248718e+09           NaN   1.248718e+09  \n",
            "2      1.289403e+09  1.289403e+09  7.321301e+08           NaN   1.289403e+09  \n",
            "3      1.325711e+09  1.325711e+09           NaN  3.811147e+08   1.325711e+09  \n",
            "4      1.360859e+09  1.360859e+09           NaN  3.889255e+08   1.360859e+09  \n",
            "5      1.394507e+09  1.394507e+09           NaN  1.394507e+09   1.394507e+09  \n",
            "\n",
            "[5 rows x 140 columns]\n"
          ]
        }
      ]
    },
    {
      "cell_type": "markdown",
      "source": [
        "## DATA TRANSFORMATION\n",
        "\n",
        "We will perform at least five field-level transformations and explain what each transformation does.\n",
        "\n",
        "**Transformation 1: Filling Missing Values**\n",
        "\n",
        "In some cases, the dataset might have missing values. One common approach is to fill them with a default value, such as the mean, median, or mode of the column, or forward fill the missing values from the previous row.\n",
        "\n",
        "This transformation fills any missing data in the DataFrame by carrying forward the last valid observation (from the previous row). It's useful for time series data where the missing values are assumed to be similar to the previous values."
      ],
      "metadata": {
        "id": "KQfLOW7ajltk"
      }
    },
    {
      "cell_type": "code",
      "source": [
        "# Forward filling missing values (propagating the last valid value forward)\n",
        "merged_df_filled = merged_df.fillna(method='ffill')\n",
        "\n",
        "# Displaying the first few rows of the transformed data\n",
        "print(merged_df_filled.head())"
      ],
      "metadata": {
        "colab": {
          "base_uri": "https://localhost:8080/"
        },
        "id": "FEjjDSgJjPOz",
        "outputId": "cf2ef5ac-0a82-41ee-ec7f-89750f795635"
      },
      "execution_count": null,
      "outputs": [
        {
          "output_type": "stream",
          "name": "stdout",
          "text": [
            "  iso_code continent location        date  total_cases  new_cases  \\\n",
            "0      IND      Asia    india  2020-04-01        979.0        0.0   \n",
            "1      IND      Asia    india  2020-04-01        979.0        0.0   \n",
            "2      IND      Asia    india  2020-04-02        979.0        0.0   \n",
            "3      IND      Asia    india  2020-04-02        979.0        0.0   \n",
            "4      IND      Asia    india  2020-04-02        979.0        0.0   \n",
            "\n",
            "   new_cases_smoothed  total_deaths  new_deaths  new_deaths_smoothed  ...  \\\n",
            "0              88.429          25.0         0.0                2.571  ...   \n",
            "1              88.429          25.0         0.0                2.571  ...   \n",
            "2              88.429          25.0         0.0                2.571  ...   \n",
            "3              88.429          25.0         0.0                2.571  ...   \n",
            "4              88.429          25.0         0.0                2.571  ...   \n",
            "\n",
            "   excess_mortality_cumulative_absolute  excess_mortality_cumulative  \\\n",
            "0                                   NaN                          NaN   \n",
            "1                                   NaN                          NaN   \n",
            "2                                   NaN                          NaN   \n",
            "3                                   NaN                          NaN   \n",
            "4                                   NaN                          NaN   \n",
            "\n",
            "   excess_mortality  excess_mortality_cumulative_per_million        Date  \\\n",
            "0               NaN                                      NaN  2020-04-01   \n",
            "1               NaN                                      NaN  2020-04-01   \n",
            "2               NaN                                      NaN  2020-04-02   \n",
            "3               NaN                                      NaN  2020-04-02   \n",
            "4               NaN                                      NaN  2020-04-02   \n",
            "\n",
            "            State  TotalSamples  Negative  Positive  week  \n",
            "0           delhi        2621.0       NaN       NaN    14  \n",
            "1          kerala        7965.0      7256     265.0    14  \n",
            "2  andhra pradesh        1800.0      1175     132.0    14  \n",
            "3           assam         962.0       819      16.0    14  \n",
            "4      chandigarh         124.0        98      18.0    14  \n",
            "\n",
            "[5 rows x 73 columns]\n"
          ]
        },
        {
          "output_type": "stream",
          "name": "stderr",
          "text": [
            "<ipython-input-65-a5fd1ea529b6>:2: FutureWarning: DataFrame.fillna with 'method' is deprecated and will raise in a future version. Use obj.ffill() or obj.bfill() instead.\n",
            "  merged_df_filled = merged_df.fillna(method='ffill')\n"
          ]
        }
      ]
    },
    {
      "cell_type": "markdown",
      "source": [
        "**Transformation 2: Date Parsing and Extraction**\n",
        "\n",
        "Let's extract specific components from the date column (such as year, month, and day), which is often useful for temporal analysis.\n",
        "\n",
        "Transformation: Extract Year, Month, and Day\n",
        "\n",
        "This transformation extracts the year, month, and day from the Date column. This can be helpful for time-based grouping or trend analysis (e.g., by year or month)."
      ],
      "metadata": {
        "id": "EsMY5M4-j3Qp"
      }
    },
    {
      "cell_type": "code",
      "source": [
        "# Convert 'Date' to datetime format and extract year, month, and day\n",
        "merged_df['Year'] = pd.to_datetime(merged_df['Date']).dt.year\n",
        "merged_df['Month'] = pd.to_datetime(merged_df['Date']).dt.month\n",
        "merged_df['Day'] = pd.to_datetime(merged_df['Date']).dt.day\n",
        "\n",
        "# Displaying the transformed data\n",
        "print(merged_df[['Date', 'Year', 'Month', 'Day']].head())"
      ],
      "metadata": {
        "colab": {
          "base_uri": "https://localhost:8080/"
        },
        "id": "d2U9BVxPjwDX",
        "outputId": "21599eb9-b87e-4d9d-fcbe-36673a95d4d7"
      },
      "execution_count": null,
      "outputs": [
        {
          "output_type": "stream",
          "name": "stdout",
          "text": [
            "         Date  Year  Month  Day\n",
            "0  2020-04-01  2020      4    1\n",
            "1  2020-04-01  2020      4    1\n",
            "2  2020-04-02  2020      4    2\n",
            "3  2020-04-02  2020      4    2\n",
            "4  2020-04-02  2020      4    2\n"
          ]
        }
      ]
    },
    {
      "cell_type": "markdown",
      "source": [
        "**Transformation 3: Creating Percentage Columns**\n",
        "\n",
        "Let's create percentage columns that calculate the proportion of new cases, deaths, and tests relative to the total.\n",
        "\n",
        "Transformation: Create Percentage Columns for New Cases, New Deaths, and New Tests\n",
        "\n",
        "This transformation calculates the percentage of new cases, new deaths, and new tests relative to the total cases, deaths, and tests. It's helpful for understanding the proportion of new activities (e.g., new cases or deaths) in the context of the total data."
      ],
      "metadata": {
        "id": "6YsId06KkCJX"
      }
    },
    {
      "cell_type": "code",
      "source": [
        "# Creating percentage columns\n",
        "merged_df['New Cases Percentage'] = (merged_df['new_cases'] / merged_df['total_cases']) * 100\n",
        "merged_df['New Deaths Percentage'] = (merged_df['new_deaths'] / merged_df['total_deaths']) * 100\n",
        "merged_df['New Tests Percentage'] = (merged_df['new_tests'] / merged_df['total_tests']) * 100\n",
        "\n",
        "# Displaying the transformed data\n",
        "print(merged_df[['Date', 'State', 'New Cases Percentage', 'New Deaths Percentage', 'New Tests Percentage']].head())"
      ],
      "metadata": {
        "colab": {
          "base_uri": "https://localhost:8080/"
        },
        "id": "ag0jdVO7kAkS",
        "outputId": "b219153d-6ccb-41f3-fc10-6965d831de3e"
      },
      "execution_count": null,
      "outputs": [
        {
          "output_type": "stream",
          "name": "stdout",
          "text": [
            "         Date           State  New Cases Percentage  New Deaths Percentage  \\\n",
            "0  2020-04-01           delhi                   0.0                    0.0   \n",
            "1  2020-04-01          kerala                   0.0                    0.0   \n",
            "2  2020-04-02  andhra pradesh                   0.0                    0.0   \n",
            "3  2020-04-02           assam                   0.0                    0.0   \n",
            "4  2020-04-02      chandigarh                   0.0                    0.0   \n",
            "\n",
            "   New Tests Percentage  \n",
            "0                   NaN  \n",
            "1                   NaN  \n",
            "2                   NaN  \n",
            "3                   NaN  \n",
            "4                   NaN  \n"
          ]
        }
      ]
    },
    {
      "cell_type": "markdown",
      "source": [
        "**Transformation 4: Creating a Moving Average**\n",
        "\n",
        "A moving average is useful to smooth out fluctuations and identify trends in time series data. We'll create a 7-day moving average for new cases.\n",
        "\n",
        "Transformation: Calculate 7-Day Moving Average for New Cases\n",
        "\n",
        "This transformation calculates the 7-day moving average for new cases. It smooths out daily fluctuations and helps identify underlying trends (e.g., increase or decrease in new cases over time)."
      ],
      "metadata": {
        "id": "V-eGKR0IkOCJ"
      }
    },
    {
      "cell_type": "code",
      "source": [
        "# Calculating 7-day moving average for new cases\n",
        "merged_df['7-Day Moving Average (New Cases)'] = merged_df['new_cases'].rolling(window=7).mean()\n",
        "\n",
        "# Displaying the transformed data\n",
        "print(merged_df[['Date', 'State', 'new_cases', '7-Day Moving Average (New Cases)']].head(10))"
      ],
      "metadata": {
        "colab": {
          "base_uri": "https://localhost:8080/"
        },
        "id": "OdVZrX4hkK2r",
        "outputId": "909e6cfe-42de-4fa7-dd1a-3685df8d3137"
      },
      "execution_count": null,
      "outputs": [
        {
          "output_type": "stream",
          "name": "stdout",
          "text": [
            "         Date           State  new_cases  7-Day Moving Average (New Cases)\n",
            "0  2020-04-01           delhi        0.0                               NaN\n",
            "1  2020-04-01          kerala        0.0                               NaN\n",
            "2  2020-04-02  andhra pradesh        0.0                               NaN\n",
            "3  2020-04-02           assam        0.0                               NaN\n",
            "4  2020-04-02      chandigarh        0.0                               NaN\n",
            "5  2020-04-02    chhattisgarh        0.0                               NaN\n",
            "6  2020-04-02             goa        0.0                               0.0\n",
            "7  2020-04-02          kerala        0.0                               0.0\n",
            "8  2020-04-03         haryana        0.0                               0.0\n",
            "9  2020-04-03       karnataka        0.0                               0.0\n"
          ]
        }
      ]
    },
    {
      "cell_type": "markdown",
      "source": [
        "**Transformation 5: Log Transformation for Skewed Data**\n",
        "\n",
        "For highly skewed data, applying a log transformation can normalize the distribution. We'll apply this to the total_cases column.\n",
        "\n",
        "Transformation: Apply Log Transformation to Total Cases\n",
        "\n",
        "This transformation applies the logarithmic transformation to the total_cases column. The `np.log1p()` function is used to compute the natural logarithm of total_cases + 1 to avoid issues with zeros. Log transformation is useful when data is highly skewed, making it easier to analyze by reducing the variance."
      ],
      "metadata": {
        "id": "ljI_Gai4kWJG"
      }
    },
    {
      "cell_type": "code",
      "source": [
        "import numpy as np\n",
        "\n",
        "# Log transformation of 'total_cases' (adding a small constant to avoid log(0))\n",
        "merged_df['Log Total Cases'] = np.log1p(merged_df['total_cases'])\n",
        "\n",
        "# Displaying the transformed data\n",
        "print(merged_df[['Date', 'State', 'total_cases', 'Log Total Cases']].head())"
      ],
      "metadata": {
        "colab": {
          "base_uri": "https://localhost:8080/"
        },
        "id": "hou8sRInkTdH",
        "outputId": "e83a3c21-4782-4d64-af04-061a0b33c6c8"
      },
      "execution_count": null,
      "outputs": [
        {
          "output_type": "stream",
          "name": "stdout",
          "text": [
            "         Date           State  total_cases  Log Total Cases\n",
            "0  2020-04-01           delhi        979.0         6.887553\n",
            "1  2020-04-01          kerala        979.0         6.887553\n",
            "2  2020-04-02  andhra pradesh        979.0         6.887553\n",
            "3  2020-04-02           assam        979.0         6.887553\n",
            "4  2020-04-02      chandigarh        979.0         6.887553\n"
          ]
        }
      ]
    },
    {
      "cell_type": "markdown",
      "source": [
        "## DATA VISUALIZATIONS\n",
        "\n",
        "1. Histogram (Distribution of Total COVID-19 Cases)\n",
        "\n",
        "This will show the frequency of different ranges of total cases across all states."
      ],
      "metadata": {
        "id": "PThm04fYlncW"
      }
    },
    {
      "cell_type": "code",
      "source": [
        "import matplotlib.pyplot as plt\n",
        "\n",
        "# Plotting histogram for 'total_cases'\n",
        "plt.figure(figsize=(10, 6))\n",
        "plt.hist(merged_df['total_cases'], bins=30, color='skyblue', edgecolor='black')\n",
        "plt.title('Distribution of Total COVID-19 Cases Across States')\n",
        "plt.xlabel('Total COVID-19 Cases')\n",
        "plt.ylabel('Frequency')\n",
        "plt.grid(True)\n",
        "plt.show()"
      ],
      "metadata": {
        "colab": {
          "base_uri": "https://localhost:8080/",
          "height": 564
        },
        "id": "KE_fnnOPkmsH",
        "outputId": "33ecf424-ce83-45b1-ddb7-ae17e8f51526"
      },
      "execution_count": null,
      "outputs": [
        {
          "output_type": "display_data",
          "data": {
            "text/plain": [
              "<Figure size 1000x600 with 1 Axes>"
            ],
            "image/png": "[encoded data removed]"
          },
          "metadata": {}
        }
      ]
    },
    {
      "cell_type": "markdown",
      "source": [
        "Data Visualization\n",
        "Visualizing the data was key to understanding the trends and extracting meaningful insights. We employed multiple types of visualizations, each serving a different purpose in presenting the data.\n",
        "1. Histogram\n",
        "• Purpose: To understand the distribution of total COVID-19 cases across different regions and identify the frequency of case numbers in various ranges.\n"
      ],
      "metadata": {
        "id": "aJHkwjwZ0BrD"
      }
    },
    {
      "cell_type": "markdown",
      "source": [
        "2. Density Plot (Distribution of Total Tests Conducted)\n",
        "\n",
        "This will show the density distribution of total tests conducted across all states."
      ],
      "metadata": {
        "id": "ldCjb4GklyzI"
      }
    },
    {
      "cell_type": "code",
      "source": [
        "import seaborn as sns\n",
        "\n",
        "# Plotting density plot for 'total_tests'\n",
        "plt.figure(figsize=(10, 6))\n",
        "sns.kdeplot(merged_df['total_tests'].dropna(), fill=True, color='orange')\n",
        "plt.title('Density Distribution of Total COVID-19 Tests Across States')\n",
        "plt.xlabel('Total Tests Conducted')\n",
        "plt.ylabel('Density')\n",
        "plt.grid(True)\n",
        "plt.show()"
      ],
      "metadata": {
        "colab": {
          "base_uri": "https://localhost:8080/",
          "height": 564
        },
        "id": "hngdr_5ylvaq",
        "outputId": "fb397459-446b-402f-db12-df70e3b069f3"
      },
      "execution_count": null,
      "outputs": [
        {
          "output_type": "display_data",
          "data": {
            "text/plain": [
              "<Figure size 1000x600 with 1 Axes>"
            ],
            "image/png": "[encoded data removed]"
          },
          "metadata": {}
        }
      ]
    },
    {
      "cell_type": "markdown",
      "source": [
        "2. Density Plot\n",
        "• Purpose: To visualize the smoothed distribution (density) of COVID-19 cases, providing a clearer view of data trends and overall shape.\n",
        "\n"
      ],
      "metadata": {
        "id": "zOPIEll_0Hen"
      }
    },
    {
      "cell_type": "markdown",
      "source": [
        "3. Box Plot (Spread of Total Cases Across States)\n",
        "\n",
        "This will show the spread, median, and outliers of total cases across different states."
      ],
      "metadata": {
        "id": "5sAV3NoCl6EG"
      }
    },
    {
      "cell_type": "code",
      "source": [
        "# Box plot for 'total_cases' across 'State'\n",
        "plt.figure(figsize=(12, 6))\n",
        "sns.boxplot(x='State', y='total_cases', data=merged_df, palette='coolwarm')\n",
        "plt.title('Spread of Total COVID-19 Cases Across States')\n",
        "plt.xlabel('State')\n",
        "plt.ylabel('Total COVID-19 Cases')\n",
        "plt.xticks(rotation=90)  # Rotate state names for better visibility\n",
        "plt.grid(True)\n",
        "plt.show()"
      ],
      "metadata": {
        "colab": {
          "base_uri": "https://localhost:8080/",
          "height": 944
        },
        "id": "4MP7o8XOl2Mw",
        "outputId": "3dff8e12-f032-4846-c7a5-2fd04652b198"
      },
      "execution_count": null,
      "outputs": [
        {
          "output_type": "stream",
          "name": "stderr",
          "text": [
            "<ipython-input-74-37226fe4fe04>:3: FutureWarning: \n",
            "\n",
            "Passing `palette` without assigning `hue` is deprecated and will be removed in v0.14.0. Assign the `x` variable to `hue` and set `legend=False` for the same effect.\n",
            "\n",
            "  sns.boxplot(x='State', y='total_cases', data=merged_df, palette='coolwarm')\n"
          ]
        },
        {
          "output_type": "display_data",
          "data": {
            "text/plain": [
              "<Figure size 1200x600 with 1 Axes>"
            ],
            "image/png": "[encoded data removed]"
          },
          "metadata": {}
        }
      ]
    },
    {
      "cell_type": "markdown",
      "source": [
        "3. Box Plot\n",
        "• Purpose: To display the spread and variability of COVID-19 deaths, highlighting the median, quartiles, and identifying potential outliers in the death counts across regions.\n"
      ],
      "metadata": {
        "id": "XdVnglG90MfE"
      }
    },
    {
      "cell_type": "markdown",
      "source": [
        "4. Line Chart (Total Cases vs Total Deaths Over Time)"
      ],
      "metadata": {
        "id": "4g_zc7c8mAh-"
      }
    },
    {
      "cell_type": "code",
      "source": [
        "import pandas as pd\n",
        "import matplotlib.pyplot as plt\n",
        "\n",
        "# Selecting data for India\n",
        "india_data = merged_df[merged_df['location'] == 'india']\n",
        "\n",
        "# Converting 'date' column to datetime format\n",
        "india_data['date'] = pd.to_datetime(india_data['date'])\n",
        "\n",
        "# Plotting total cases and total deaths over time\n",
        "plt.figure(figsize=(12, 6))\n",
        "plt.plot(india_data['date'], india_data['total_cases'], label='Total Cases', color='blue', linewidth=2)\n",
        "plt.plot(india_data['date'], india_data['total_deaths'], label='Total Deaths', color='red', linewidth=2)\n",
        "\n",
        "# Customizing the chart\n",
        "plt.title('Total COVID-19 Cases vs Total Deaths Over Time for India', fontsize=16)\n",
        "plt.xlabel('Date', fontsize=12)\n",
        "plt.ylabel('Count', fontsize=12)\n",
        "plt.legend()\n",
        "\n",
        "# Rotating the x-axis labels for better readability\n",
        "plt.xticks(rotation=45)\n",
        "\n",
        "# Displaying the chart\n",
        "plt.tight_layout()\n",
        "plt.show()"
      ],
      "metadata": {
        "colab": {
          "base_uri": "https://localhost:8080/",
          "height": 607
        },
        "id": "B_ZZK6Y5l8Lz",
        "outputId": "f864033d-cb46-4c05-d878-32b66a426fc4"
      },
      "execution_count": null,
      "outputs": [
        {
          "output_type": "display_data",
          "data": {
            "text/plain": [
              "<Figure size 1200x600 with 1 Axes>"
            ],
            "image/png": "[encoded data removed]"
          },
          "metadata": {}
        }
      ]
    },
    {
      "cell_type": "markdown",
      "source": [
        "4. Line Chart\n",
        "• Purpose: To track the progression of COVID-19 cases and deaths over time, showing trends, peaks, and valleys in the data."
      ],
      "metadata": {
        "id": "ih2lZ7Em0RuV"
      }
    },
    {
      "cell_type": "markdown",
      "source": [
        "---\n",
        "\n",
        "### Problem Applicability\n",
        "\n",
        "The analysis of COVID-19 data isn't just useful for understanding the pandemic, but can also serve as a valuable tool for real-world decision-making across various sectors, particularly in healthcare. This project, by processing and analyzing large amounts of data, can potentially solve several challenges faced by healthcare professionals, government authorities, and organizations involved in pandemic management. Let's look at some ways this data could be applied practically:\n",
        "\n",
        "1. **Forecasting Future Trends**:\n",
        "   - One of the key applications of analyzing COVID-19 data is the ability to forecast future trends. By studying patterns in case numbers, death rates, and vaccination data, predictive models can be built to estimate how the pandemic might progress in different regions. This could help anticipate spikes in cases, allowing healthcare systems to prepare for surges in hospital admissions, ICU needs, and the demand for medical resources.\n",
        "\n",
        "2. **Improved Resource Allocation**:\n",
        "   - By identifying which regions are experiencing the highest number of cases, health officials can better allocate resources like hospital beds, ventilators, and PPE to areas that need them most. For instance, analyzing hospital admission rates or ICU capacity across states can reveal areas with potential shortages. Based on this, proactive measures can be taken to ensure that supplies and healthcare personnel are sent to where they are most needed, potentially saving lives and preventing overwhelmed healthcare systems.\n",
        "\n",
        "3. **Optimizing Vaccine Distribution**:\n",
        "   - Vaccination plays a central role in managing and controlling the spread of COVID-19. Using this data, it is possible to target vaccination efforts based on the severity of outbreaks, population density, and the prevalence of vulnerable groups. Regions with higher case numbers and greater population density may need priority vaccine doses, whereas rural areas or regions with lower infection rates might be targeted later. By leveraging this data, healthcare providers can ensure more equitable and efficient distribution of vaccines.\n",
        "\n",
        "4. **Identifying Overburdened Hospitals and Healthcare Systems**:\n",
        "   - Excess mortality data (when the number of deaths exceeds normal or expected levels) can signal whether a healthcare system is becoming overburdened. If a region is experiencing significantly higher than expected death rates, it might indicate that hospitals are overwhelmed or that resources are inadequate. Authorities can use this insight to take immediate action—whether it's increasing hospital capacity, providing additional medical staff, or facilitating quicker transportation of patients to areas with available beds.\n",
        "\n",
        "5. **Analyzing the Effectiveness of Public Health Policies**:\n",
        "   - Understanding the impact of public health measures, such as lockdowns, social distancing, mask mandates, and travel restrictions, is critical. By comparing COVID-19 case data before and after these measures, we can evaluate whether they are helping to slow down the spread of the virus. For example, if a significant reduction in cases follows the introduction of a lockdown, it would support the argument that such interventions can be effective. This kind of analysis helps in making informed decisions about continuing or modifying public health policies to better control the spread of the virus.\n",
        "\n",
        "6. **Balancing Economic and Health Considerations**:\n",
        "   - One of the ongoing challenges governments face during a pandemic is balancing public health and economic stability. On one hand, restrictions like lockdowns and quarantines can slow the spread of the virus, but they also have a significant economic impact, affecting businesses, jobs, and overall economic activity. By analyzing the data on case numbers, death rates, and healthcare system strain, decision-makers can weigh the benefits of restrictions against their economic consequences. Data helps identify a \"sweet spot\" where restrictions are effective in reducing the spread without causing undue economic harm, leading to more informed, data-driven policy decisions.\n",
        "\n",
        "7. **Tracking Disease Variants and Mutations**:\n",
        "   - With the emergence of new COVID-19 variants, it is essential to track how they affect infection rates, transmission, and mortality. By analyzing trends in case numbers and mutation rates, health organizations can identify which variants are most prevalent in specific areas and assess their impact. This allows for quicker responses, including targeted vaccination strategies or changes in treatment protocols. Moreover, it helps health agencies prepare for future outbreaks by predicting how these variants may behave based on historical data.\n",
        "\n",
        "8. **Informed Public Communication**:\n",
        "   - Clear communication with the public is essential to ensuring compliance with safety guidelines, such as mask-wearing, social distancing, and vaccination. By using data to highlight the severity of the pandemic, trends in case numbers, and the effectiveness of interventions, authorities can communicate more effectively with the public. Visualizations like charts and graphs can make complex data easier to understand, helping citizens grasp the importance of following health measures. This can encourage compliance and increase the overall effectiveness of public health strategies.\n",
        "\n",
        "9. **Real-Time Monitoring and Rapid Response**:\n",
        "   - During the ongoing pandemic, real-time monitoring of COVID-19 data is critical for rapid response. Dashboards and visualization tools that track the latest case numbers, deaths, hospitalizations, and testing rates can provide up-to-date information that decision-makers need to respond to emerging trends. For example, if a new wave of infections is detected, a quick response in terms of additional testing, hospital support, or even lockdowns can help curb the spread.\n",
        "\n",
        "---\n",
        "\n",
        "### Conclusion\n",
        "\n",
        "The theoretical aspects of this project go far beyond just analyzing data. With the right tools and insights, the data can be used to make informed decisions that have a real-world impact. From healthcare management to policy decisions and resource allocation, this project provides valuable insights that could improve the response to the pandemic and help manage future health crises more effectively. The ability to predict, track, and act based on data can save lives, ease the burden on healthcare systems, and ensure that measures taken during a crisis are both effective and efficient.\n",
        "\n",
        "---"
      ],
      "metadata": {
        "id": "fl9ApRDGolWc"
      }
    },
    {
      "cell_type": "code",
      "source": [],
      "metadata": {
        "id": "dnFFvkiXmCQC"
      },
      "execution_count": null,
      "outputs": []
    }
  ]
}
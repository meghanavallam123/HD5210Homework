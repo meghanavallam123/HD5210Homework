{
  "cells": [
    {
      "cell_type": "markdown",
      "metadata": {
        "nbgrader": {
          "grade": false,
          "grade_id": "cell-fc1c39d0d6f8b82a",
          "locked": true,
          "schema_version": 1,
          "solution": false
        },
        "id": "PmCdlWqhEq7p"
      },
      "source": [
        "# Week 14 Review Assignmnet\n",
        "\n",
        "For the questions below, we're going to refer exclusively to an HHCAPS survey data set that is available in `/data/hhcaps.csv`.  Use whatever commands you want to calculate the information required to get to the answer.  Then, enter your answer in the answers cell as usual.\n",
        "\n",
        "**NOTE: Enter your answers as string values (inside quotation marks \"\") even if the answer is actually numeric.**\n",
        "\n",
        "---\n",
        "---\n"
      ]
    },
    {
      "cell_type": "code",
      "execution_count": 11,
      "metadata": {
        "nbgrader": {
          "grade": false,
          "grade_id": "intro",
          "locked": true,
          "schema_version": 1,
          "solution": false
        },
        "id": "lKajktOkEq7r"
      },
      "outputs": [],
      "source": [
        "%matplotlib inline\n",
        "import pandas as pd\n",
        "\n",
        "hhcaps = pd.read_csv('https://hds5210-data.s3.amazonaws.com/hhcaps.csv')"
      ]
    },
    {
      "cell_type": "markdown",
      "metadata": {
        "nbgrader": {
          "grade": false,
          "grade_id": "q01-intro",
          "locked": true,
          "schema_version": 1,
          "solution": false
        },
        "id": "OU30d5hbEq7s"
      },
      "source": [
        "## #01 -\n",
        "\n",
        "How many columns does this file contain?"
      ]
    },
    {
      "cell_type": "code",
      "execution_count": 12,
      "metadata": {
        "id": "Pihk7Bw6Eq7s",
        "outputId": "fcaaeec3-d687-43c5-f763-4a0fcb0c4d46",
        "colab": {
          "base_uri": "https://localhost:8080/"
        }
      },
      "outputs": [
        {
          "output_type": "execute_result",
          "data": {
            "text/plain": [
              "(12000, 39)"
            ]
          },
          "metadata": {},
          "execution_count": 12
        }
      ],
      "source": [
        "hhcaps.shape"
      ]
    },
    {
      "cell_type": "code",
      "execution_count": 13,
      "metadata": {
        "nbgrader": {
          "grade": false,
          "grade_id": "q01-solution",
          "locked": false,
          "schema_version": 1,
          "solution": true
        },
        "id": "j6OiN-VoEq7s"
      },
      "outputs": [],
      "source": [
        "answers={}\n",
        "answers['40.1'] = 39"
      ]
    },
    {
      "cell_type": "markdown",
      "metadata": {
        "nbgrader": {
          "grade": false,
          "grade_id": "q02-intro",
          "locked": true,
          "schema_version": 1,
          "solution": false
        },
        "id": "gbAbZKxLEq7t"
      },
      "source": [
        "## #02 -\n",
        "\n",
        "How many different values for State are there in this file?"
      ]
    },
    {
      "cell_type": "code",
      "execution_count": 14,
      "metadata": {
        "id": "Qw9Z3TMwEq7t",
        "outputId": "2ea7d370-845c-4993-8049-68eb68a1709a",
        "colab": {
          "base_uri": "https://localhost:8080/"
        }
      },
      "outputs": [
        {
          "output_type": "stream",
          "name": "stdout",
          "text": [
            "There are 55 unique values in the 'State' column.\n"
          ]
        }
      ],
      "source": [
        "# Write some code to figure it out\n",
        "# Check if the 'State' column exists and count unique values\n",
        "if 'State' in hhcaps.columns:\n",
        "    unique_states = hhcaps['State'].nunique()\n",
        "    print(f\"There are {unique_states} unique values in the 'State' column.\")\n",
        "else:\n",
        "    print(\"The 'State' column is not in the dataset.\")\n"
      ]
    },
    {
      "cell_type": "code",
      "execution_count": 15,
      "metadata": {
        "nbgrader": {
          "grade": false,
          "grade_id": "q02-solution",
          "locked": false,
          "schema_version": 1,
          "solution": true
        },
        "id": "qG2XbfM1Eq7t"
      },
      "outputs": [],
      "source": [
        "answers['40.2'] = 55 # NOTE: Use a number, not a string to answer this question"
      ]
    },
    {
      "cell_type": "markdown",
      "metadata": {
        "nbgrader": {
          "grade": false,
          "grade_id": "q03-intro",
          "locked": true,
          "schema_version": 1,
          "solution": false
        },
        "id": "nruW4elNEq7u"
      },
      "source": [
        "## #03 -\n",
        "\n",
        "Which of those State values has the highest frequency of occurence?"
      ]
    },
    {
      "cell_type": "code",
      "execution_count": 16,
      "metadata": {
        "nbgrader": {
          "grade": false,
          "grade_id": "q03-solution",
          "locked": false,
          "schema_version": 1,
          "solution": true
        },
        "id": "1S4I4cg9Eq7u",
        "outputId": "b7fb876a-9c3f-476f-e441-3540559bd414",
        "colab": {
          "base_uri": "https://localhost:8080/"
        }
      },
      "outputs": [
        {
          "output_type": "stream",
          "name": "stdout",
          "text": [
            "The state with the highest frequency is 'TX' with 2518 occurrences.\n"
          ]
        }
      ],
      "source": [
        "# Check if the 'State' column exists and find the most frequent value\n",
        "if 'State' in hhcaps.columns:\n",
        "    most_frequent_state = hhcaps['State'].value_counts().idxmax()\n",
        "    frequency = hhcaps['State'].value_counts().max()\n",
        "    print(f\"The state with the highest frequency is '{most_frequent_state}' with {frequency} occurrences.\")\n",
        "else:\n",
        "    print(\"The 'State' column is not in the dataset.\")"
      ]
    },
    {
      "cell_type": "code",
      "execution_count": 17,
      "metadata": {
        "nbgrader": {
          "grade": true,
          "grade_id": "q03-test",
          "locked": true,
          "points": 2,
          "schema_version": 1,
          "solution": false
        },
        "id": "UlAW73gBEq7u"
      },
      "outputs": [],
      "source": [
        "answers['40.3'] = \"TX\""
      ]
    },
    {
      "cell_type": "markdown",
      "metadata": {
        "nbgrader": {
          "grade": false,
          "grade_id": "q04-intro",
          "locked": true,
          "schema_version": 1,
          "solution": false
        },
        "id": "uWd0frjuEq7u"
      },
      "source": [
        "## #04 -\n",
        "\n",
        "Which of those State values has the best average performance on the `Star Rating for health team communicated well with them` score?"
      ]
    },
    {
      "cell_type": "code",
      "execution_count": 18,
      "metadata": {
        "nbgrader": {
          "grade": false,
          "grade_id": "q04-solution",
          "locked": false,
          "schema_version": 1,
          "solution": true
        },
        "id": "NZnuiv_pEq7u",
        "outputId": "5d996cbb-edba-4292-e1f0-262c8d575df0",
        "colab": {
          "base_uri": "https://localhost:8080/"
        }
      },
      "outputs": [
        {
          "output_type": "stream",
          "name": "stdout",
          "text": [
            "The state with the best average performance is 'ME' with an average score of 4.65.\n"
          ]
        }
      ],
      "source": [
        "# Write some code to figure it out\n",
        "# Check if the required columns exist\n",
        "required_columns = ['State', 'Star Rating for health team communicated well with them']\n",
        "\n",
        "if all(col in hhcaps.columns for col in required_columns):\n",
        "    # Group by State and calculate the average score\n",
        "    average_scores = hhcaps.groupby('State')['Star Rating for health team communicated well with them'].mean()\n",
        "\n",
        "    # Find the state with the highest average score\n",
        "    best_state = average_scores.idxmax()\n",
        "    best_score = average_scores.max()\n",
        "\n",
        "    print(f\"The state with the best average performance is '{best_state}' with an average score of {best_score:.2f}.\")\n",
        "else:\n",
        "    print(f\"One or more required columns are not in the dataset: {required_columns}\")\n",
        "\n"
      ]
    },
    {
      "cell_type": "code",
      "execution_count": 19,
      "metadata": {
        "nbgrader": {
          "grade": true,
          "grade_id": "q04-test",
          "locked": true,
          "points": 2,
          "schema_version": 1,
          "solution": false
        },
        "id": "6-Q7zK1nEq7v"
      },
      "outputs": [],
      "source": [
        "answers['40.4'] = \"ME\""
      ]
    },
    {
      "cell_type": "markdown",
      "metadata": {
        "nbgrader": {
          "grade": false,
          "grade_id": "q05-intro",
          "locked": true,
          "schema_version": 1,
          "solution": false
        },
        "id": "PKreKrf4Eq7v"
      },
      "source": [
        "## #05 -\n",
        "\n",
        "What was the average score on `Star Rating for how patients rated overall care from agency` for providers listed as having a `Type of Ownership` of `Hospital Based Program`\n",
        "\n",
        "**NOTE: Enter your answer with two decimal precision: 0.00**"
      ]
    },
    {
      "cell_type": "code",
      "execution_count": 20,
      "metadata": {
        "nbgrader": {
          "grade": false,
          "grade_id": "q05-solution",
          "locked": false,
          "schema_version": 1,
          "solution": true
        },
        "id": "eCmKSe7SEq7v",
        "outputId": "018f5679-bee0-422a-dc49-ffe6e26218a3",
        "colab": {
          "base_uri": "https://localhost:8080/"
        }
      },
      "outputs": [
        {
          "output_type": "stream",
          "name": "stdout",
          "text": [
            "The average score is 3.69 for providers with a Type of Ownership of 'Hospital Based Program'.\n"
          ]
        }
      ],
      "source": [
        "# Check if the required columns exist\n",
        "required_columns = [\n",
        "    'Type of Ownership',\n",
        "    'Star Rating for how patients rated overall care from agency'\n",
        "]\n",
        "\n",
        "if all(col in hhcaps.columns for col in required_columns):\n",
        "    # Filter the data for 'Hospital Based Program' ownership type\n",
        "    filtered_data = hhcaps[hhcaps['Type of Ownership'] == 'Hospital Based Program']\n",
        "\n",
        "    # Calculate the average score\n",
        "    average_score = filtered_data['Star Rating for how patients rated overall care from agency'].mean()\n",
        "\n",
        "    if pd.notna(average_score):\n",
        "        print(f\"The average score is {average_score:.2f} for providers with a Type of Ownership of 'Hospital Based Program'.\")\n",
        "    else:\n",
        "        print(\"No valid scores found for providers with a Type of Ownership of 'Hospital Based Program'.\")\n",
        "else:\n",
        "    print(f\"One or more required columns are not in the dataset: {required_columns}\")\n"
      ]
    },
    {
      "cell_type": "code",
      "execution_count": 21,
      "metadata": {
        "nbgrader": {
          "grade": true,
          "grade_id": "q05-test",
          "locked": true,
          "points": 2,
          "schema_version": 1,
          "solution": false
        },
        "id": "72ysa0XAEq7v"
      },
      "outputs": [],
      "source": [
        "answers['40.5'] = 3.69 # NOTE: Write answer as number in form N.NN (No additional digits)"
      ]
    },
    {
      "cell_type": "markdown",
      "metadata": {
        "id": "7Tn9XAscEq7v"
      },
      "source": [
        "---\n",
        "\n",
        "Checking Your Work\n",
        "---\n",
        "\n",
        "After completing your work above and running each cell, you can check your answers by running the code below.\n",
        "\n",
        "The easiest way to do this is to use the `Kernel` -> `Restart Kernel and Run All Cells` menu option. This option restarts Python and runs every cell from top to bottom until it encounters an exception of some kind.  It will stop after running the cell below and outputing a summary of how many answers you have correct or incorrect.\n"
      ]
    },
    {
      "cell_type": "code",
      "execution_count": 22,
      "metadata": {
        "id": "ZL0T0FZ8Eq7v",
        "outputId": "41eab8c0-5308-4552-afc8-e25470a93921",
        "colab": {
          "base_uri": "https://localhost:8080/"
        }
      },
      "outputs": [
        {
          "output_type": "stream",
          "name": "stdout",
          "text": [
            "Question 40.1 is CORRECT\n",
            "Question 40.2 is CORRECT\n",
            "Question 40.3 is CORRECT\n",
            "Question 40.4 is CORRECT\n",
            "Question 40.5 is CORRECT\n"
          ]
        }
      ],
      "source": [
        "import pickle\n",
        "\n",
        "data = b\"\\x80\\x04\\x95?\\x00\\x00\\x00\\x00\\x00\\x00\\x00}\\x94(\\x8c\\x0440.1\\x94K'\\x8c\\x0440.2\\x94K7\\x8c\\x0440.3\\x94\\x8c\\x02TX\\x94\\x8c\\x0440.4\\x94\\x8c\\x02ME\\x94\\x8c\\x0440.5\\x94G@\\r\\x85\\x1e\\xb8Q\\xeb\\x85u.\"\n",
        "result = pickle.loads(data)\n",
        "\n",
        "for key in result:\n",
        "  if answers[key] == result[key]:\n",
        "    print(f\"Question {key} is CORRECT\")\n",
        "  else:\n",
        "    print(f\"Question {key} is INCORRECT\")"
      ]
    },
    {
      "cell_type": "markdown",
      "metadata": {
        "id": "5JFGLskKEq7v"
      },
      "source": [
        "---\n",
        "\n",
        "## Check your work above\n",
        "\n",
        "If you didn't get them all correct, take a few minutes to think through those that aren't correct.\n",
        "\n",
        "\n",
        "## Submitting Your Work\n",
        "\n",
        "In order to submit your work, you'll need to save this notebook file back to GitHub.  To do that in Google Colab:\n",
        "1. File -> Save a Copy in GitHub\n",
        "2. Make sure your HDS5210 repository is selected\n",
        "3. Make sure the file name includes the week number like this: `week14/week14_assignment_1.ipynb`\n",
        "4. Add a commit message that means something\n",
        "\n",
        "**Be sure week names are lowercase and use a two digit week number!!**\n",
        "\n",
        "**Be sure you use the same file name provided by the instructor!!**\n",
        "\n"
      ]
    }
  ],
  "metadata": {
    "celltoolbar": "Create Assignment",
    "kernelspec": {
      "display_name": "Python 3 (ipykernel)",
      "language": "python",
      "name": "python3"
    },
    "language_info": {
      "codemirror_mode": {
        "name": "ipython",
        "version": 3
      },
      "file_extension": ".py",
      "mimetype": "text/x-python",
      "name": "python",
      "nbconvert_exporter": "python",
      "pygments_lexer": "ipython3",
      "version": "3.13.0"
    },
    "colab": {
      "provenance": []
    }
  },
  "nbformat": 4,
  "nbformat_minor": 0
}